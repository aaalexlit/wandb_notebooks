{
  "nbformat": 4,
  "nbformat_minor": 0,
  "metadata": {
    "colab": {
      "provenance": [],
      "authorship_tag": "ABX9TyMaXENf8Rr4/8hcWUH23zJk",
      "include_colab_link": true
    },
    "kernelspec": {
      "name": "python3",
      "display_name": "Python 3"
    },
    "language_info": {
      "name": "python"
    }
  },
  "cells": [
    {
      "cell_type": "markdown",
      "metadata": {
        "id": "view-in-github",
        "colab_type": "text"
      },
      "source": [
        "<a href=\"https://colab.research.google.com/github/aaalexlit/wandb_notebooks/blob/main/W%26B_01_EDA.ipynb\" target=\"_parent\"><img src=\"https://colab.research.google.com/assets/colab-badge.svg\" alt=\"Open In Colab\"/></a>"
      ]
    },
    {
      "cell_type": "code",
      "execution_count": 1,
      "metadata": {
        "colab": {
          "base_uri": "https://localhost:8080/"
        },
        "id": "1t8Mqi9qE8JC",
        "outputId": "e8bcd534-2b19-4b1b-cf3d-d6f3c18a063c"
      },
      "outputs": [
        {
          "output_type": "stream",
          "name": "stdout",
          "text": [
            "\u001b[2K     \u001b[90m━━━━━━━━━━━━━━━━━━━━━━━━━━━━━━━━━━━━━━━━\u001b[0m \u001b[32m2.0/2.0 MB\u001b[0m \u001b[31m23.7 MB/s\u001b[0m eta \u001b[36m0:00:00\u001b[0m\n",
            "\u001b[2K     \u001b[90m━━━━━━━━━━━━━━━━━━━━━━━━━━━━━━━━━━━━━━\u001b[0m \u001b[32m184.3/184.3 kB\u001b[0m \u001b[31m16.2 MB/s\u001b[0m eta \u001b[36m0:00:00\u001b[0m\n",
            "\u001b[2K     \u001b[90m━━━━━━━━━━━━━━━━━━━━━━━━━━━━━━━━━━━━━━\u001b[0m \u001b[32m206.5/206.5 kB\u001b[0m \u001b[31m18.2 MB/s\u001b[0m eta \u001b[36m0:00:00\u001b[0m\n",
            "\u001b[?25h  Preparing metadata (setup.py) ... \u001b[?25l\u001b[?25hdone\n",
            "\u001b[2K     \u001b[90m━━━━━━━━━━━━━━━━━━━━━━━━━━━━━━━━━━━━━━━━\u001b[0m \u001b[32m62.7/62.7 kB\u001b[0m \u001b[31m7.4 MB/s\u001b[0m eta \u001b[36m0:00:00\u001b[0m\n",
            "\u001b[?25h  Building wheel for pathtools (setup.py) ... \u001b[?25l\u001b[?25hdone\n"
          ]
        }
      ],
      "source": [
        "%%capture\n",
        "!pip install wandb -qq\n",
        "!wget -nc https://raw.githubusercontent.com/wandb/edu/main/mlops-001/lesson1/params.py\n",
        "!wget -nc https://raw.githubusercontent.com/wandb/edu/main/mlops-001/lesson1/utils.py"
      ]
    },
    {
      "cell_type": "code",
      "source": [
        "from fastai.vision.all import * \n",
        "import params\n",
        "import wandb"
      ],
      "metadata": {
        "id": "Ud7hPYhDFHqq"
      },
      "execution_count": 5,
      "outputs": []
    },
    {
      "cell_type": "code",
      "source": [
        "URL = 'https://storage.googleapis.com/wandb_course/bdd_simple_1k.zip'\n"
      ],
      "metadata": {
        "id": "VQK4b6MPLVbE"
      },
      "execution_count": 6,
      "outputs": []
    },
    {
      "cell_type": "code",
      "source": [
        "path = Path(untar_data(URL, force_download=True))"
      ],
      "metadata": {
        "colab": {
          "base_uri": "https://localhost:8080/",
          "height": 37
        },
        "id": "Q5WaUgzVMjeG",
        "outputId": "a6186b52-60b4-40f6-bce7-3a3a3068b4cf"
      },
      "execution_count": 8,
      "outputs": [
        {
          "output_type": "display_data",
          "data": {
            "text/plain": [
              "<IPython.core.display.HTML object>"
            ],
            "text/html": [
              "\n",
              "<style>\n",
              "    /* Turns off some styling */\n",
              "    progress {\n",
              "        /* gets rid of default border in Firefox and Opera. */\n",
              "        border: none;\n",
              "        /* Needs to be in here for Safari polyfill so background images work as expected. */\n",
              "        background-size: auto;\n",
              "    }\n",
              "    progress:not([value]), progress:not([value])::-webkit-progress-bar {\n",
              "        background: repeating-linear-gradient(45deg, #7e7e7e, #7e7e7e 10px, #5c5c5c 10px, #5c5c5c 20px);\n",
              "    }\n",
              "    .progress-bar-interrupted, .progress-bar-interrupted::-webkit-progress-bar {\n",
              "        background: #F44336;\n",
              "    }\n",
              "</style>\n"
            ]
          },
          "metadata": {}
        },
        {
          "output_type": "display_data",
          "data": {
            "text/plain": [
              "<IPython.core.display.HTML object>"
            ],
            "text/html": [
              "\n",
              "    <div>\n",
              "      <progress value='122470400' class='' max='122467691' style='width:300px; height:20px; vertical-align: middle;'></progress>\n",
              "      100.00% [122470400/122467691 00:01&lt;00:00]\n",
              "    </div>\n",
              "    "
            ]
          },
          "metadata": {}
        }
      ]
    },
    {
      "cell_type": "code",
      "source": [
        "path.ls()"
      ],
      "metadata": {
        "colab": {
          "base_uri": "https://localhost:8080/"
        },
        "id": "dDwQZLKMY3Es",
        "outputId": "bc238b2e-01f5-42e1-bf6d-bbc827c57b1e"
      },
      "execution_count": 18,
      "outputs": [
        {
          "output_type": "execute_result",
          "data": {
            "text/plain": [
              "(#3) [Path('/root/.fastai/data/bdd_simple_1k/LICENSE.txt'),Path('/root/.fastai/data/bdd_simple_1k/labels'),Path('/root/.fastai/data/bdd_simple_1k/images')]"
            ]
          },
          "metadata": {},
          "execution_count": 18
        }
      ]
    },
    {
      "cell_type": "code",
      "source": [
        "(path/'labels').ls()"
      ],
      "metadata": {
        "colab": {
          "base_uri": "https://localhost:8080/"
        },
        "id": "lx8Nn1HGZCMq",
        "outputId": "7e96ae01-4629-4c3c-f64c-105a5592fced"
      },
      "execution_count": 19,
      "outputs": [
        {
          "output_type": "execute_result",
          "data": {
            "text/plain": [
              "(#1001) [Path('/root/.fastai/data/bdd_simple_1k/labels/977b8906-7e0dbdbd_mask.png'),Path('/root/.fastai/data/bdd_simple_1k/labels/7461b407-00000000_mask.png'),Path('/root/.fastai/data/bdd_simple_1k/labels/7b3ee12a-26590001_mask.png'),Path('/root/.fastai/data/bdd_simple_1k/labels/2cc27873-1866aa6a_mask.png'),Path('/root/.fastai/data/bdd_simple_1k/labels/6bbebf9e-1ee89b43_mask.png'),Path('/root/.fastai/data/bdd_simple_1k/labels/a91b7555-00001090_mask.png'),Path('/root/.fastai/data/bdd_simple_1k/labels/8accdada-6b91f21f_mask.png'),Path('/root/.fastai/data/bdd_simple_1k/labels/0ea7f502-16d9fb4e_mask.png'),Path('/root/.fastai/data/bdd_simple_1k/labels/1fbf13dd-e90a8282_mask.png'),Path('/root/.fastai/data/bdd_simple_1k/labels/0f1a2d28-bfa30001_mask.png')...]"
            ]
          },
          "metadata": {},
          "execution_count": 19
        }
      ]
    },
    {
      "cell_type": "code",
      "source": [
        "(path/'images').ls()"
      ],
      "metadata": {
        "colab": {
          "base_uri": "https://localhost:8080/"
        },
        "id": "uMMrAYD1NAjl",
        "outputId": "b2d9fe1e-ef1c-4dbd-ea89-cf6a576130d5"
      },
      "execution_count": 17,
      "outputs": [
        {
          "output_type": "execute_result",
          "data": {
            "text/plain": [
              "(#1000) [Path('/root/.fastai/data/bdd_simple_1k/images/b5fd8bf6-fa9be3ca.jpg'),Path('/root/.fastai/data/bdd_simple_1k/images/4f2c67cc-2117b7d0.jpg'),Path('/root/.fastai/data/bdd_simple_1k/images/0ceb02a1-9d25dd06.jpg'),Path('/root/.fastai/data/bdd_simple_1k/images/1e15cae7-5d932386.jpg'),Path('/root/.fastai/data/bdd_simple_1k/images/5af8ba04-e0e43238.jpg'),Path('/root/.fastai/data/bdd_simple_1k/images/9dccd5bd-67d455b3.jpg'),Path('/root/.fastai/data/bdd_simple_1k/images/81cd9c75-00000000.jpg'),Path('/root/.fastai/data/bdd_simple_1k/images/8f71e64e-6c9b9af0.jpg'),Path('/root/.fastai/data/bdd_simple_1k/images/a91b7555-00000140.jpg'),Path('/root/.fastai/data/bdd_simple_1k/images/63b0747b-00000000.jpg')...]"
            ]
          },
          "metadata": {},
          "execution_count": 17
        }
      ]
    },
    {
      "cell_type": "code",
      "source": [
        "def label_func(fname):\n",
        "    return (fname.parent.parent/\"labels\")/f\"{fname.stem}_mask.png\"\n",
        "    \n",
        " "
      ],
      "metadata": {
        "id": "99ZqNCAbOUv9"
      },
      "execution_count": 29,
      "outputs": []
    },
    {
      "cell_type": "code",
      "source": [
        "def get_classes_per_image(mask_data, class_labels):\n",
        "    unique = list(np.unique(mask_data))\n",
        "    result_dict = {}\n",
        "    for _class in class_labels.keys():\n",
        "        result_dict[class_labels[_class]] = int(_class in unique)\n",
        "    return result_dict"
      ],
      "metadata": {
        "id": "lO_L-LU-bOVp"
      },
      "execution_count": 34,
      "outputs": []
    },
    {
      "cell_type": "code",
      "source": [
        "   \n",
        "def _create_table(image_files, class_labels):\n",
        "  \"Create a table with the dataset\"\n",
        "  labels = [str(class_labels[_lab]) for _lab in list(class_labels)]\n",
        "  table = wandb.Table(columns=[\"File_Name\", \"P1\", \"P2\", \"Images\", \"Dataset\"] + labels)\n",
        "\n",
        "  for i, image_file in progress_bar(enumerate(image_files), total=len(image_files)):\n",
        "    image = Image.open(image_file)\n",
        "    mask_data = np.array(Image.open(label_func(image_file)))\n",
        "    class_in_image = get_classes_per_image(mask_data, class_labels)\n",
        "    table.add_data(\n",
        "        image_file.stem,\n",
        "        image_file.stem.split('-')[0],\n",
        "        image_file.stem.split('-')[1],\n",
        "        wandb.Image(\n",
        "            image,\n",
        "            masks={\n",
        "                'predictions': {\n",
        "                    'mask_data': mask_data,\n",
        "                    'class_labels': class_labels,\n",
        "                }\n",
        "            }\n",
        "        ),\n",
        "        'bdd1k',\n",
        "        *[class_in_image[_lab] for _lab in labels]\n",
        "    )\n",
        "  return table"
      ],
      "metadata": {
        "id": "MRgBIic0acpv"
      },
      "execution_count": 59,
      "outputs": []
    },
    {
      "cell_type": "code",
      "source": [
        "path_to_first_image = (path/'images').ls()[0]"
      ],
      "metadata": {
        "id": "zKQmNSn2ZVgJ"
      },
      "execution_count": 25,
      "outputs": []
    },
    {
      "cell_type": "code",
      "source": [
        "image = Image.open(path_to_first_image)\n",
        "mask_data = np.array(Image.open(label_func(path_to_first_image)))"
      ],
      "metadata": {
        "id": "DLvnTsGWZ6d7"
      },
      "execution_count": 30,
      "outputs": []
    },
    {
      "cell_type": "code",
      "source": [
        "import matplotlib.pyplot as plt\n",
        "plt.imshow(mask_data)"
      ],
      "metadata": {
        "colab": {
          "base_uri": "https://localhost:8080/",
          "height": 363
        },
        "id": "1b2Eki-JaTd1",
        "outputId": "0513bdce-29f2-4ade-a441-392910f584eb"
      },
      "execution_count": 32,
      "outputs": [
        {
          "output_type": "execute_result",
          "data": {
            "text/plain": [
              "<matplotlib.image.AxesImage at 0x7f2bc02c9960>"
            ]
          },
          "metadata": {},
          "execution_count": 32
        },
        {
          "output_type": "display_data",
          "data": {
            "text/plain": [
              "<Figure size 640x480 with 1 Axes>"
            ],
            "image/png": "[encoded data removed]"
          },
          "metadata": {}
        }
      ]
    },
    {
      "cell_type": "code",
      "source": [
        "get_classes_per_image(mask_data, params.BDD_CLASSES)"
      ],
      "metadata": {
        "colab": {
          "base_uri": "https://localhost:8080/"
        },
        "id": "jUTnpWgEbjtx",
        "outputId": "a2106c7c-ad65-453d-fd95-e8316b18135f"
      },
      "execution_count": 35,
      "outputs": [
        {
          "output_type": "execute_result",
          "data": {
            "text/plain": [
              "{'background': 1,\n",
              " 'road': 1,\n",
              " 'traffic light': 1,\n",
              " 'traffic sign': 1,\n",
              " 'person': 0,\n",
              " 'vehicle': 1,\n",
              " 'bicycle': 0}"
            ]
          },
          "metadata": {},
          "execution_count": 35
        }
      ]
    },
    {
      "cell_type": "code",
      "source": [
        "path_to_first_image.stem"
      ],
      "metadata": {
        "colab": {
          "base_uri": "https://localhost:8080/",
          "height": 35
        },
        "id": "5cEiUMMKae0Z",
        "outputId": "3286a0d3-b542-4e8c-bf0b-c7426b066c0c"
      },
      "execution_count": 38,
      "outputs": [
        {
          "output_type": "execute_result",
          "data": {
            "text/plain": [
              "'b5fd8bf6-fa9be3ca'"
            ],
            "application/vnd.google.colaboratory.intrinsic+json": {
              "type": "string"
            }
          },
          "metadata": {},
          "execution_count": 38
        }
      ]
    },
    {
      "cell_type": "code",
      "source": [
        "[str(params.BDD_CLASSES[_lab]) for _lab in list(params.BDD_CLASSES)]"
      ],
      "metadata": {
        "colab": {
          "base_uri": "https://localhost:8080/"
        },
        "id": "XnN2n8Y0cfW5",
        "outputId": "5fa15a98-c853-42b8-cea9-d8def3925805"
      },
      "execution_count": 39,
      "outputs": [
        {
          "output_type": "execute_result",
          "data": {
            "text/plain": [
              "['background',\n",
              " 'road',\n",
              " 'traffic light',\n",
              " 'traffic sign',\n",
              " 'person',\n",
              " 'vehicle',\n",
              " 'bicycle']"
            ]
          },
          "metadata": {},
          "execution_count": 39
        }
      ]
    },
    {
      "cell_type": "code",
      "source": [
        "list(params.BDD_CLASSES.values())"
      ],
      "metadata": {
        "colab": {
          "base_uri": "https://localhost:8080/"
        },
        "id": "VvA6CwFuchrX",
        "outputId": "f895db2b-93d4-4c50-ddff-0392c20a5d4d"
      },
      "execution_count": 44,
      "outputs": [
        {
          "output_type": "execute_result",
          "data": {
            "text/plain": [
              "['background',\n",
              " 'road',\n",
              " 'traffic light',\n",
              " 'traffic sign',\n",
              " 'person',\n",
              " 'vehicle',\n",
              " 'bicycle']"
            ]
          },
          "metadata": {},
          "execution_count": 44
        }
      ]
    },
    {
      "cell_type": "markdown",
      "source": [
        "# Start a new W&B run"
      ],
      "metadata": {
        "id": "MIQcvcwRclt4"
      }
    },
    {
      "cell_type": "code",
      "source": [
        "run = wandb.init(project=params.WANDB_PROJECT,\n",
        "                 entity=params.ENTITY,\n",
        "                 job_type=\"upload\"\n",
        "                 )"
      ],
      "metadata": {
        "colab": {
          "base_uri": "https://localhost:8080/",
          "height": 140
        },
        "id": "jVgdbn-ndH6y",
        "outputId": "fd2bb999-d9eb-46e3-fa14-df1424ede487"
      },
      "execution_count": 45,
      "outputs": [
        {
          "output_type": "display_data",
          "data": {
            "text/plain": [
              "<IPython.core.display.Javascript object>"
            ],
            "application/javascript": [
              "\n",
              "        window._wandbApiKey = new Promise((resolve, reject) => {\n",
              "            function loadScript(url) {\n",
              "            return new Promise(function(resolve, reject) {\n",
              "                let newScript = document.createElement(\"script\");\n",
              "                newScript.onerror = reject;\n",
              "                newScript.onload = resolve;\n",
              "                document.body.appendChild(newScript);\n",
              "                newScript.src = url;\n",
              "            });\n",
              "            }\n",
              "            loadScript(\"https://cdn.jsdelivr.net/npm/postmate/build/postmate.min.js\").then(() => {\n",
              "            const iframe = document.createElement('iframe')\n",
              "            iframe.style.cssText = \"width:0;height:0;border:none\"\n",
              "            document.body.appendChild(iframe)\n",
              "            const handshake = new Postmate({\n",
              "                container: iframe,\n",
              "                url: 'https://wandb.ai/authorize'\n",
              "            });\n",
              "            const timeout = setTimeout(() => reject(\"Couldn't auto authenticate\"), 5000)\n",
              "            handshake.then(function(child) {\n",
              "                child.on('authorize', data => {\n",
              "                    clearTimeout(timeout)\n",
              "                    resolve(data)\n",
              "                });\n",
              "            });\n",
              "            })\n",
              "        });\n",
              "    "
            ]
          },
          "metadata": {}
        },
        {
          "output_type": "stream",
          "name": "stderr",
          "text": [
            "\u001b[34m\u001b[1mwandb\u001b[0m: Appending key for api.wandb.ai to your netrc file: /root/.netrc\n"
          ]
        },
        {
          "output_type": "display_data",
          "data": {
            "text/plain": [
              "<IPython.core.display.HTML object>"
            ],
            "text/html": [
              "Tracking run with wandb version 0.15.3"
            ]
          },
          "metadata": {}
        },
        {
          "output_type": "display_data",
          "data": {
            "text/plain": [
              "<IPython.core.display.HTML object>"
            ],
            "text/html": [
              "Run data is saved locally in <code>/content/wandb/run-20230602_094613-6oi7q2e2</code>"
            ]
          },
          "metadata": {}
        },
        {
          "output_type": "display_data",
          "data": {
            "text/plain": [
              "<IPython.core.display.HTML object>"
            ],
            "text/html": [
              "Syncing run <strong><a href='https://wandb.ai/aaalex-lit/mlops-course-001/runs/6oi7q2e2' target=\"_blank\">volcanic-glade-1</a></strong> to <a href='https://wandb.ai/aaalex-lit/mlops-course-001' target=\"_blank\">Weights & Biases</a> (<a href='https://wandb.me/run' target=\"_blank\">docs</a>)<br/>"
            ]
          },
          "metadata": {}
        },
        {
          "output_type": "display_data",
          "data": {
            "text/plain": [
              "<IPython.core.display.HTML object>"
            ],
            "text/html": [
              " View project at <a href='https://wandb.ai/aaalex-lit/mlops-course-001' target=\"_blank\">https://wandb.ai/aaalex-lit/mlops-course-001</a>"
            ]
          },
          "metadata": {}
        },
        {
          "output_type": "display_data",
          "data": {
            "text/plain": [
              "<IPython.core.display.HTML object>"
            ],
            "text/html": [
              " View run at <a href='https://wandb.ai/aaalex-lit/mlops-course-001/runs/6oi7q2e2' target=\"_blank\">https://wandb.ai/aaalex-lit/mlops-course-001/runs/6oi7q2e2</a>"
            ]
          },
          "metadata": {}
        }
      ]
    },
    {
      "cell_type": "markdown",
      "source": [
        "# Create and Artifact"
      ],
      "metadata": {
        "id": "UNW2wNdqgNze"
      }
    },
    {
      "cell_type": "code",
      "source": [
        "artifact = wandb.Artifact(params.RAW_DATA_AT, type='raw_data')"
      ],
      "metadata": {
        "id": "p8RbZJquf_vv"
      },
      "execution_count": 47,
      "outputs": []
    },
    {
      "cell_type": "markdown",
      "source": [
        "# Add file to artifact"
      ],
      "metadata": {
        "id": "IhSO1aBjgbkL"
      }
    },
    {
      "cell_type": "code",
      "source": [
        "artifact.add_file(path/\"LICENSE.txt\", name=\"LICENSE.txt\")"
      ],
      "metadata": {
        "colab": {
          "base_uri": "https://localhost:8080/"
        },
        "id": "U2RJvhA_gehD",
        "outputId": "84ee8723-742a-480f-c33d-7002efa94653"
      },
      "execution_count": 48,
      "outputs": [
        {
          "output_type": "execute_result",
          "data": {
            "text/plain": [
              "ArtifactManifestEntry(path='LICENSE.txt', digest='X+6ZFkDOlnKesJCNt20yRg==', ref=None, birth_artifact_id=None, size=1594, extra={}, local_path='/root/.local/share/wandb/artifacts/staging/tmpui14gl30')"
            ]
          },
          "metadata": {},
          "execution_count": 48
        }
      ]
    },
    {
      "cell_type": "markdown",
      "source": [
        "# Add dirs with images and labels to the artifact"
      ],
      "metadata": {
        "id": "E0w5tW0DhthJ"
      }
    },
    {
      "cell_type": "code",
      "source": [
        "artifact.add_dir(path/'images', name='images')"
      ],
      "metadata": {
        "colab": {
          "base_uri": "https://localhost:8080/"
        },
        "id": "IZVyeyilgqI1",
        "outputId": "7e4535b3-b5f7-4ee2-c071-a3643f6a1a8c"
      },
      "execution_count": 49,
      "outputs": [
        {
          "output_type": "stream",
          "name": "stderr",
          "text": [
            "\u001b[34m\u001b[1mwandb\u001b[0m: Adding directory to artifact (/root/.fastai/data/bdd_simple_1k/images)... Done. 1.4s\n"
          ]
        }
      ]
    },
    {
      "cell_type": "code",
      "source": [
        "artifact.add_dir(path/'labels', name='labels')"
      ],
      "metadata": {
        "colab": {
          "base_uri": "https://localhost:8080/"
        },
        "id": "-ijo1f7chMy8",
        "outputId": "e0b3134e-cbf1-444e-8102-026046bbb24c"
      },
      "execution_count": 50,
      "outputs": [
        {
          "output_type": "stream",
          "name": "stderr",
          "text": [
            "\u001b[34m\u001b[1mwandb\u001b[0m: Adding directory to artifact (/root/.fastai/data/bdd_simple_1k/labels)... Done. 0.8s\n"
          ]
        }
      ]
    },
    {
      "cell_type": "markdown",
      "source": [
        "# Read image files and create a table"
      ],
      "metadata": {
        "id": "aiE3E-TNhy9A"
      }
    },
    {
      "cell_type": "code",
      "source": [
        "image_files = get_image_files(path/\"images\", recurse=False)\n"
      ],
      "metadata": {
        "id": "ZvUIVY8AhS4Q"
      },
      "execution_count": 51,
      "outputs": []
    },
    {
      "cell_type": "code",
      "source": [
        "table = _create_table(image_files, params.BDD_CLASSES)\n"
      ],
      "metadata": {
        "colab": {
          "base_uri": "https://localhost:8080/",
          "height": 37
        },
        "id": "-T1Mj00shbiJ",
        "outputId": "95ec895f-a130-4408-f497-e3b5b1fecd0e"
      },
      "execution_count": 60,
      "outputs": [
        {
          "output_type": "display_data",
          "data": {
            "text/plain": [
              "<IPython.core.display.HTML object>"
            ],
            "text/html": [
              "\n",
              "<style>\n",
              "    /* Turns off some styling */\n",
              "    progress {\n",
              "        /* gets rid of default border in Firefox and Opera. */\n",
              "        border: none;\n",
              "        /* Needs to be in here for Safari polyfill so background images work as expected. */\n",
              "        background-size: auto;\n",
              "    }\n",
              "    progress:not([value]), progress:not([value])::-webkit-progress-bar {\n",
              "        background: repeating-linear-gradient(45deg, #7e7e7e, #7e7e7e 10px, #5c5c5c 10px, #5c5c5c 20px);\n",
              "    }\n",
              "    .progress-bar-interrupted, .progress-bar-interrupted::-webkit-progress-bar {\n",
              "        background: #F44336;\n",
              "    }\n",
              "</style>\n"
            ]
          },
          "metadata": {}
        },
        {
          "output_type": "display_data",
          "data": {
            "text/plain": [
              "<IPython.core.display.HTML object>"
            ],
            "text/html": [
              "\n",
              "    <div>\n",
              "      <progress value='1000' class='' max='1000' style='width:300px; height:20px; vertical-align: middle;'></progress>\n",
              "      100.00% [1000/1000 05:08&lt;00:00]\n",
              "    </div>\n",
              "    "
            ]
          },
          "metadata": {}
        }
      ]
    },
    {
      "cell_type": "markdown",
      "source": [
        "# Add table to artifact"
      ],
      "metadata": {
        "id": "WWwPKs6xhcNC"
      }
    },
    {
      "cell_type": "code",
      "source": [
        "artifact.add(table, 'eda_table')"
      ],
      "metadata": {
        "colab": {
          "base_uri": "https://localhost:8080/"
        },
        "id": "cJUeOnKvh5iO",
        "outputId": "98a4b6e5-3290-4b6e-ca93-da4d92bee818"
      },
      "execution_count": 61,
      "outputs": [
        {
          "output_type": "execute_result",
          "data": {
            "text/plain": [
              "ArtifactManifestEntry(path='eda_table.table.json', digest='uf0Wqi1Oy2EGZwQ4PoM7SA==', ref=None, birth_artifact_id=None, size=610046, extra={}, local_path='/root/.local/share/wandb/artifacts/staging/tmp2p97_id9')"
            ]
          },
          "metadata": {},
          "execution_count": 61
        }
      ]
    },
    {
      "cell_type": "markdown",
      "source": [
        "# Log artifact to W&B and finish run"
      ],
      "metadata": {
        "id": "ytUoDIVxh_ON"
      }
    },
    {
      "cell_type": "code",
      "source": [
        "run.log_artifact(artifact)\n",
        "run.finish()"
      ],
      "metadata": {
        "colab": {
          "base_uri": "https://localhost:8080/",
          "height": 87
        },
        "id": "g9rRtrzLiHJC",
        "outputId": "ea1eb568-a961-4872-be61-6262c98728e2"
      },
      "execution_count": 62,
      "outputs": [
        {
          "output_type": "display_data",
          "data": {
            "text/plain": [
              "<IPython.core.display.HTML object>"
            ],
            "text/html": [
              "Waiting for W&B process to finish... <strong style=\"color:green\">(success).</strong>"
            ]
          },
          "metadata": {}
        },
        {
          "output_type": "display_data",
          "data": {
            "text/plain": [
              "<IPython.core.display.HTML object>"
            ],
            "text/html": [
              " View run <strong style=\"color:#cdcd00\">volcanic-glade-1</strong> at: <a href='https://wandb.ai/aaalex-lit/mlops-course-001/runs/6oi7q2e2' target=\"_blank\">https://wandb.ai/aaalex-lit/mlops-course-001/runs/6oi7q2e2</a><br/>Synced 5 W&B file(s), 0 media file(s), 4007 artifact file(s) and 0 other file(s)"
            ]
          },
          "metadata": {}
        },
        {
          "output_type": "display_data",
          "data": {
            "text/plain": [
              "<IPython.core.display.HTML object>"
            ],
            "text/html": [
              "Find logs at: <code>./wandb/run-20230602_094613-6oi7q2e2/logs</code>"
            ]
          },
          "metadata": {}
        }
      ]
    },
    {
      "cell_type": "code",
      "source": [],
      "metadata": {
        "id": "ayppgNEAiTFY"
      },
      "execution_count": null,
      "outputs": []
    }
  ]
}