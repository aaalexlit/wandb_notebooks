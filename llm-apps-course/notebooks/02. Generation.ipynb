{
  "cells": [
    {
      "cell_type": "markdown",
      "metadata": {
        "id": "view-in-github",
        "colab_type": "text"
      },
      "source": [
        "<a href=\"https://colab.research.google.com/github/aaalexlit/wandb_notebooks/blob/main/llm-apps-course/notebooks/02.%20Generation.ipynb\" target=\"_parent\"><img src=\"https://colab.research.google.com/assets/colab-badge.svg\" alt=\"Open In Colab\"/></a>"
      ]
    },
    {
      "cell_type": "markdown",
      "metadata": {
        "id": "_N60r4ST_NWZ"
      },
      "source": [
        "<a href=\"https://colab.research.google.com/github/wandb/edu/blob/main/llm-apps-course/notebooks/02.%20Generation.ipynb\" target=\"_parent\"><img src=\"https://colab.research.google.com/assets/colab-badge.svg\" alt=\"Open In Colab\"/></a>\n",
        "<!--- @wandbcode{llmapps-generation} -->"
      ]
    },
    {
      "cell_type": "markdown",
      "metadata": {
        "id": "5nKtCM8A_NWc"
      },
      "source": [
        "# Generation\n",
        "<!--- @wandbcode{llmapps-generation} -->\n",
        "\n",
        "In this notebook we will dive deeper on prompting the model by passing a better context by using available data from users questions and using the documentation files to generate better answers.\n"
      ]
    },
    {
      "cell_type": "markdown",
      "metadata": {
        "id": "JijNa2Cm_NWc"
      },
      "source": [
        "### Setup"
      ]
    },
    {
      "cell_type": "code",
      "execution_count": 1,
      "metadata": {
        "colab": {
          "base_uri": "https://localhost:8080/"
        },
        "id": "yvwOJEnK_NWc",
        "outputId": "6cf79c9d-4535-40c9-b8ac-e5795b55fb13"
      },
      "outputs": [
        {
          "output_type": "stream",
          "name": "stdout",
          "text": [
            "\u001b[2K     \u001b[90m━━━━━━━━━━━━━━━━━━━━━━━━━━━━━━━━━━━━━━━━\u001b[0m \u001b[32m76.5/76.5 kB\u001b[0m \u001b[31m1.7 MB/s\u001b[0m eta \u001b[36m0:00:00\u001b[0m\n",
            "\u001b[2K     \u001b[90m━━━━━━━━━━━━━━━━━━━━━━━━━━━━━━━━━━━━━━━━\u001b[0m \u001b[32m1.7/1.7 MB\u001b[0m \u001b[31m8.9 MB/s\u001b[0m eta \u001b[36m0:00:00\u001b[0m\n",
            "\u001b[2K     \u001b[90m━━━━━━━━━━━━━━━━━━━━━━━━━━━━━━━━━━━━━━━━\u001b[0m \u001b[32m2.1/2.1 MB\u001b[0m \u001b[31m14.3 MB/s\u001b[0m eta \u001b[36m0:00:00\u001b[0m\n",
            "\u001b[2K     \u001b[90m━━━━━━━━━━━━━━━━━━━━━━━━━━━━━━━━━━━━━━\u001b[0m \u001b[32m188.5/188.5 kB\u001b[0m \u001b[31m15.4 MB/s\u001b[0m eta \u001b[36m0:00:00\u001b[0m\n",
            "\u001b[2K     \u001b[90m━━━━━━━━━━━━━━━━━━━━━━━━━━━━━━━━━━━━━━\u001b[0m \u001b[32m218.8/218.8 kB\u001b[0m \u001b[31m17.0 MB/s\u001b[0m eta \u001b[36m0:00:00\u001b[0m\n",
            "\u001b[?25h  Preparing metadata (setup.py) ... \u001b[?25l\u001b[?25hdone\n",
            "\u001b[2K     \u001b[90m━━━━━━━━━━━━━━━━━━━━━━━━━━━━━━━━━━━━━━━━\u001b[0m \u001b[32m62.7/62.7 kB\u001b[0m \u001b[31m4.7 MB/s\u001b[0m eta \u001b[36m0:00:00\u001b[0m\n",
            "\u001b[?25h  Building wheel for pathtools (setup.py) ... \u001b[?25l\u001b[?25hdone\n"
          ]
        }
      ],
      "source": [
        "%pip install -Uqqq rich openai tiktoken wandb tenacity"
      ]
    },
    {
      "cell_type": "code",
      "execution_count": 2,
      "metadata": {
        "id": "LNKfYzYZ_NWd"
      },
      "outputs": [],
      "source": [
        "import os\n",
        "import random\n",
        "\n",
        "import openai\n",
        "import tiktoken\n",
        "\n",
        "from pathlib import Path\n",
        "from pprint import pprint\n",
        "from getpass import getpass\n",
        "\n",
        "from rich.markdown import Markdown\n",
        "import pandas as pd\n",
        "from tenacity import (\n",
        "    retry,\n",
        "    stop_after_attempt,\n",
        "    wait_random_exponential, # for exponential backoff\n",
        ")\n",
        "import wandb\n",
        "from wandb.integration.openai import autolog"
      ]
    },
    {
      "cell_type": "markdown",
      "metadata": {
        "id": "LXiaxqQr_NWd"
      },
      "source": [
        "You will need an OpenAI API key to run this notebook. You can get one [here](https://platform.openai.com/account/api-keys)."
      ]
    },
    {
      "cell_type": "code",
      "execution_count": 3,
      "metadata": {
        "colab": {
          "base_uri": "https://localhost:8080/"
        },
        "id": "amagc4yL_NWe",
        "outputId": "c0849a97-6dd2-4a99-a848-fd637de953a8"
      },
      "outputs": [
        {
          "output_type": "stream",
          "name": "stdout",
          "text": [
            "Paste your OpenAI key from: https://platform.openai.com/account/api-keys\n",
            "··········\n",
            "OpenAI API key configured\n"
          ]
        }
      ],
      "source": [
        "if os.getenv(\"OPENAI_API_KEY\") is None:\n",
        "  if any(['VSCODE' in x for x in os.environ.keys()]):\n",
        "    print('Please enter password in the VS Code prompt at the top of your VS Code window!')\n",
        "  os.environ[\"OPENAI_API_KEY\"] = getpass(\"Paste your OpenAI key from: https://platform.openai.com/account/api-keys\\n\")\n",
        "  openai.api_key = os.getenv(\"OPENAI_API_KEY\", \"\")\n",
        "\n",
        "assert os.getenv(\"OPENAI_API_KEY\", \"\").startswith(\"sk-\"), \"This doesn't look like a valid OpenAI API key\"\n",
        "print(\"OpenAI API key configured\")"
      ]
    },
    {
      "cell_type": "markdown",
      "metadata": {
        "id": "gfJOH0N8_NWe"
      },
      "source": [
        "Let's enable W&B autologging to track our experiments."
      ]
    },
    {
      "cell_type": "code",
      "execution_count": 4,
      "metadata": {
        "colab": {
          "base_uri": "https://localhost:8080/",
          "height": 204,
          "referenced_widgets": [
            "b7f760b582b94a258ff7f124f8454e7d",
            "072ab45f89fb464c9c88e97f68fff5b1",
            "5c4eaf88b4e8480e8f290fc3ba2f6188",
            "35359c11c1804f0d99c723e59048a9ba",
            "96c996a4b3214fd49e14cecee1f27702",
            "96bad21a675549c5b5fd25099a63d614",
            "b701bd95559e4338aac9578922db8bd4",
            "dfc0cac49df249bd885f21da70932043"
          ]
        },
        "id": "cDVxrxoa_NWf",
        "outputId": "c4c17769-fb51-44bd-fc3c-01a919ea47ce"
      },
      "outputs": [
        {
          "output_type": "display_data",
          "data": {
            "text/plain": [
              "<IPython.core.display.Javascript object>"
            ],
            "application/javascript": [
              "\n",
              "        window._wandbApiKey = new Promise((resolve, reject) => {\n",
              "            function loadScript(url) {\n",
              "            return new Promise(function(resolve, reject) {\n",
              "                let newScript = document.createElement(\"script\");\n",
              "                newScript.onerror = reject;\n",
              "                newScript.onload = resolve;\n",
              "                document.body.appendChild(newScript);\n",
              "                newScript.src = url;\n",
              "            });\n",
              "            }\n",
              "            loadScript(\"https://cdn.jsdelivr.net/npm/postmate/build/postmate.min.js\").then(() => {\n",
              "            const iframe = document.createElement('iframe')\n",
              "            iframe.style.cssText = \"width:0;height:0;border:none\"\n",
              "            document.body.appendChild(iframe)\n",
              "            const handshake = new Postmate({\n",
              "                container: iframe,\n",
              "                url: 'https://wandb.ai/authorize'\n",
              "            });\n",
              "            const timeout = setTimeout(() => reject(\"Couldn't auto authenticate\"), 5000)\n",
              "            handshake.then(function(child) {\n",
              "                child.on('authorize', data => {\n",
              "                    clearTimeout(timeout)\n",
              "                    resolve(data)\n",
              "                });\n",
              "            });\n",
              "            })\n",
              "        });\n",
              "    "
            ]
          },
          "metadata": {}
        },
        {
          "output_type": "stream",
          "name": "stderr",
          "text": [
            "\u001b[34m\u001b[1mwandb\u001b[0m: Appending key for api.wandb.ai to your netrc file: /root/.netrc\n"
          ]
        },
        {
          "output_type": "display_data",
          "data": {
            "text/plain": [
              "VBox(children=(Label(value='Waiting for wandb.init()...\\r'), FloatProgress(value=0.016682135183331562, max=1.0…"
            ],
            "application/vnd.jupyter.widget-view+json": {
              "version_major": 2,
              "version_minor": 0,
              "model_id": "b7f760b582b94a258ff7f124f8454e7d"
            }
          },
          "metadata": {}
        },
        {
          "output_type": "display_data",
          "data": {
            "text/plain": [
              "<IPython.core.display.HTML object>"
            ],
            "text/html": [
              "Tracking run with wandb version 0.15.9"
            ]
          },
          "metadata": {}
        },
        {
          "output_type": "display_data",
          "data": {
            "text/plain": [
              "<IPython.core.display.HTML object>"
            ],
            "text/html": [
              "Run data is saved locally in <code>/content/wandb/run-20230831_152022-x4a4r1lk</code>"
            ]
          },
          "metadata": {}
        },
        {
          "output_type": "display_data",
          "data": {
            "text/plain": [
              "<IPython.core.display.HTML object>"
            ],
            "text/html": [
              "Syncing run <strong><a href='https://wandb.ai/aaalex-lit/llmapps/runs/x4a4r1lk' target=\"_blank\">polished-vortex-4</a></strong> to <a href='https://wandb.ai/aaalex-lit/llmapps' target=\"_blank\">Weights & Biases</a> (<a href='https://wandb.me/run' target=\"_blank\">docs</a>)<br/>"
            ]
          },
          "metadata": {}
        },
        {
          "output_type": "display_data",
          "data": {
            "text/plain": [
              "<IPython.core.display.HTML object>"
            ],
            "text/html": [
              " View project at <a href='https://wandb.ai/aaalex-lit/llmapps' target=\"_blank\">https://wandb.ai/aaalex-lit/llmapps</a>"
            ]
          },
          "metadata": {}
        },
        {
          "output_type": "display_data",
          "data": {
            "text/plain": [
              "<IPython.core.display.HTML object>"
            ],
            "text/html": [
              " View run at <a href='https://wandb.ai/aaalex-lit/llmapps/runs/x4a4r1lk' target=\"_blank\">https://wandb.ai/aaalex-lit/llmapps/runs/x4a4r1lk</a>"
            ]
          },
          "metadata": {}
        }
      ],
      "source": [
        "# start logging to W&B\n",
        "autolog({\"project\":\"llmapps\", \"job_type\": \"generation\"})"
      ]
    },
    {
      "cell_type": "markdown",
      "metadata": {
        "id": "FtAoOS8o_NWf"
      },
      "source": [
        "# Generating synthetic support questions"
      ]
    },
    {
      "cell_type": "markdown",
      "metadata": {
        "id": "Edqxk5NJ_NWf"
      },
      "source": [
        "We will add a retry behavior in case we hit the API rate limit"
      ]
    },
    {
      "cell_type": "code",
      "execution_count": 5,
      "metadata": {
        "id": "rYEv5j7X_NWf"
      },
      "outputs": [],
      "source": [
        "@retry(wait=wait_random_exponential(min=1, max=60), stop=stop_after_attempt(6))\n",
        "def completion_with_backoff(**kwargs):\n",
        "    return openai.ChatCompletion.create(**kwargs)"
      ]
    },
    {
      "cell_type": "code",
      "execution_count": 6,
      "metadata": {
        "id": "H2FrAFTF_NWf"
      },
      "outputs": [],
      "source": [
        "MODEL_NAME = \"gpt-3.5-turbo\"\n",
        "# MODEL_NAME = \"gpt-4\""
      ]
    },
    {
      "cell_type": "code",
      "execution_count": 7,
      "metadata": {
        "colab": {
          "base_uri": "https://localhost:8080/",
          "height": 133
        },
        "id": "poIfDaZq_NWf",
        "outputId": "3e6da43b-b8c9-480f-b179-a8060c6d59e1"
      },
      "outputs": [
        {
          "output_type": "display_data",
          "data": {
            "text/plain": [
              "\"Hi there! I've been using W&B for my machine learning experiments, and I'm having trouble with viewing my         \n",
              "experiment's figures in the W&B dashboard. Can you help me troubleshoot this issue?\"                               \n"
            ],
            "text/html": [
              "<pre style=\"white-space:pre;overflow-x:auto;line-height:normal;font-family:Menlo,'DejaVu Sans Mono',consolas,'Courier New',monospace\">\"Hi there! I've been using W&amp;B for my machine learning experiments, and I'm having trouble with viewing my         \n",
              "experiment's figures in the W&amp;B dashboard. Can you help me troubleshoot this issue?\"                               \n",
              "</pre>\n"
            ]
          },
          "metadata": {}
        },
        {
          "output_type": "display_data",
          "data": {
            "text/plain": [
              "\"How can I visualize the training progress of my machine learning model using Weights & Biases?\"                   \n"
            ],
            "text/html": [
              "<pre style=\"white-space:pre;overflow-x:auto;line-height:normal;font-family:Menlo,'DejaVu Sans Mono',consolas,'Courier New',monospace\">\"How can I visualize the training progress of my machine learning model using Weights &amp; Biases?\"                   \n",
              "</pre>\n"
            ]
          },
          "metadata": {}
        },
        {
          "output_type": "display_data",
          "data": {
            "text/plain": [
              "\"Can you help me understand how to track and visualize my machine learning model's training progress using Weights \n",
              "& Biases?\"                                                                                                         \n"
            ],
            "text/html": [
              "<pre style=\"white-space:pre;overflow-x:auto;line-height:normal;font-family:Menlo,'DejaVu Sans Mono',consolas,'Courier New',monospace\">\"Can you help me understand how to track and visualize my machine learning model's training progress using Weights \n",
              "&amp; Biases?\"                                                                                                         \n",
              "</pre>\n"
            ]
          },
          "metadata": {}
        },
        {
          "output_type": "display_data",
          "data": {
            "text/plain": [
              "Why am I unable to log in to my W&B account?                                                                       \n"
            ],
            "text/html": [
              "<pre style=\"white-space:pre;overflow-x:auto;line-height:normal;font-family:Menlo,'DejaVu Sans Mono',consolas,'Courier New',monospace\">Why am I unable to log in to my W&amp;B account?                                                                       \n",
              "</pre>\n"
            ]
          },
          "metadata": {}
        },
        {
          "output_type": "display_data",
          "data": {
            "text/plain": [
              "\"What are the steps to integrate Weights & Biases with my machine learning project?\"                               \n"
            ],
            "text/html": [
              "<pre style=\"white-space:pre;overflow-x:auto;line-height:normal;font-family:Menlo,'DejaVu Sans Mono',consolas,'Courier New',monospace\">\"What are the steps to integrate Weights &amp; Biases with my machine learning project?\"                               \n",
              "</pre>\n"
            ]
          },
          "metadata": {}
        }
      ],
      "source": [
        "system_prompt = \"You are a helpful assistant.\"\n",
        "user_prompt = \"Generate a support question from a W&B user\"\n",
        "\n",
        "def generate_and_print(system_prompt, user_prompt, n=5):\n",
        "    messages=[\n",
        "            {\"role\": \"system\", \"content\": system_prompt},\n",
        "            {\"role\": \"user\", \"content\": user_prompt},\n",
        "        ]\n",
        "    responses = completion_with_backoff(\n",
        "        model=MODEL_NAME,\n",
        "        messages=messages,\n",
        "        n = n,\n",
        "        )\n",
        "    for response in responses.choices:\n",
        "        generation = response.message.content\n",
        "        display(Markdown(generation))\n",
        "\n",
        "generate_and_print(system_prompt, user_prompt)"
      ]
    },
    {
      "cell_type": "markdown",
      "metadata": {
        "id": "1wSXGmmR_NWg"
      },
      "source": [
        "# Few Shot"
      ]
    },
    {
      "cell_type": "markdown",
      "metadata": {
        "id": "hzKeNfZT_NWg"
      },
      "source": [
        "Let's read some user submitted queries from the file `examples.txt`. This file contains multiline questions separated by tabs (`\\t`)."
      ]
    },
    {
      "cell_type": "code",
      "execution_count": 21,
      "metadata": {
        "colab": {
          "base_uri": "https://localhost:8080/"
        },
        "id": "Nm8sWCgT_NWg",
        "outputId": "12f045b2-651b-4ae1-a26b-4b4f339ef3a3"
      },
      "outputs": [
        {
          "output_type": "stream",
          "name": "stdout",
          "text": [
            "--2023-08-31 15:29:28--  https://raw.githubusercontent.com/wandb/edu/main/llm-apps-course/notebooks/examples.txt\n",
            "Resolving raw.githubusercontent.com (raw.githubusercontent.com)... 185.199.110.133, 185.199.111.133, 185.199.108.133, ...\n",
            "Connecting to raw.githubusercontent.com (raw.githubusercontent.com)|185.199.110.133|:443... connected.\n",
            "HTTP request sent, awaiting response... 200 OK\n",
            "Length: 40595 (40K) [text/plain]\n",
            "Saving to: ‘examples.txt’\n",
            "\n",
            "\rexamples.txt          0%[                    ]       0  --.-KB/s               \rexamples.txt        100%[===================>]  39.64K  --.-KB/s    in 0.005s  \n",
            "\n",
            "2023-08-31 15:29:28 (7.84 MB/s) - ‘examples.txt’ saved [40595/40595]\n",
            "\n"
          ]
        }
      ],
      "source": [
        "# Test if examples.txt is present, download if not\n",
        "if not Path(\"examples.txt\").exists():\n",
        "    !wget https://raw.githubusercontent.com/wandb/edu/main/llm-apps-course/notebooks/examples.txt"
      ]
    },
    {
      "cell_type": "code",
      "execution_count": 22,
      "metadata": {
        "colab": {
          "base_uri": "https://localhost:8080/",
          "height": 84
        },
        "id": "461D0b6s_NWg",
        "outputId": "a865ad64-2671-4d8a-bd7f-d5ca9ee28189"
      },
      "outputs": [
        {
          "output_type": "stream",
          "name": "stdout",
          "text": [
            "'We have 228 real queries:'\n"
          ]
        },
        {
          "output_type": "execute_result",
          "data": {
            "text/plain": [
              "Sample one: \" i have my log from training in a txt file. Can i import that data to wandb so i can visualize the    \n",
              "data? I have accuracy and loss logged every 50 steps on training data, and every 5000 steps on validation data. How\n",
              "can I plot those two different accuracies and their losses?\"                                                       \n"
            ],
            "text/html": [
              "<pre style=\"white-space:pre;overflow-x:auto;line-height:normal;font-family:Menlo,'DejaVu Sans Mono',consolas,'Courier New',monospace\">Sample one: \" i have my log from training in a txt file. Can i import that data to wandb so i can visualize the    \n",
              "data? I have accuracy and loss logged every 50 steps on training data, and every 5000 steps on validation data. How\n",
              "can I plot those two different accuracies and their losses?\"                                                       \n",
              "</pre>\n"
            ]
          },
          "metadata": {},
          "execution_count": 22
        }
      ],
      "source": [
        "delimiter = \"\\t\" # tab separated queries\n",
        "with open(\"examples.txt\", \"r\") as file:\n",
        "    data = file.read()\n",
        "    real_queries = data.split(delimiter)\n",
        "\n",
        "pprint(f\"We have {len(real_queries)} real queries:\")\n",
        "Markdown(f\"Sample one: \\n\\\"{random.choice(real_queries)}\\\"\")"
      ]
    },
    {
      "cell_type": "markdown",
      "metadata": {
        "id": "NGe5s6PI_NWg"
      },
      "source": [
        "We can now use those real user questions to guide our model to produce synthetic questions like those."
      ]
    },
    {
      "cell_type": "code",
      "execution_count": 23,
      "metadata": {
        "colab": {
          "base_uri": "https://localhost:8080/",
          "height": 83
        },
        "id": "PzSgLyI7_NWg",
        "outputId": "3bf8bd55-6484-4423-b2d1-3c7c4cac5b36"
      },
      "outputs": [
        {
          "output_type": "execute_result",
          "data": {
            "text/plain": [
              "Generate a support question from a W&B user Below you will find a few examples of real user queries: @Corey_S pls  \n",
              "note i can log a wandb.image of a tensor of floats but not of a tensor of ints Right now I am grabbing run         \n",
              "summaries and artifacts by tags how might I get runs by the sweep names instead can i use wandb with slurm? Let's  \n",
              "start!                                                                                                             \n"
            ],
            "text/html": [
              "<pre style=\"white-space:pre;overflow-x:auto;line-height:normal;font-family:Menlo,'DejaVu Sans Mono',consolas,'Courier New',monospace\">Generate a support question from a W&amp;B user Below you will find a few examples of real user queries: @Corey_S pls  \n",
              "note i can log a wandb.image of a tensor of floats but not of a tensor of ints Right now I am grabbing run         \n",
              "summaries and artifacts by tags how might I get runs by the sweep names instead can i use wandb with slurm? Let's  \n",
              "start!                                                                                                             \n",
              "</pre>\n"
            ]
          },
          "metadata": {},
          "execution_count": 23
        }
      ],
      "source": [
        "def generate_few_shot_prompt(queries, n=3):\n",
        "    prompt = \"Generate a support question from a W&B user\\n\" +\\\n",
        "        \"Below you will find a few examples of real user queries:\\n\"\n",
        "    for _ in range(n):\n",
        "        prompt += random.choice(queries) + \"\\n\"\n",
        "    prompt += \"Let's start!\"\n",
        "    return prompt\n",
        "\n",
        "generation_prompt = generate_few_shot_prompt(real_queries)\n",
        "Markdown(generation_prompt)\n"
      ]
    },
    {
      "cell_type": "markdown",
      "metadata": {
        "id": "TRb3-eED_NWg"
      },
      "source": [
        "OpenAI `Chat` models are really good at following instructions with a few examples. Let's see how it does here. This is going to use some context from the prompt."
      ]
    },
    {
      "cell_type": "code",
      "execution_count": 24,
      "metadata": {
        "colab": {
          "base_uri": "https://localhost:8080/",
          "height": 1000
        },
        "id": "4yA6w8K__NWg",
        "outputId": "b4e502ce-d375-41e6-fb67-3a5099092eac"
      },
      "outputs": [
        {
          "output_type": "display_data",
          "data": {
            "text/plain": [
              "\n",
              "\u001b[1;33m  1 \u001b[0m\"I'm currently running my experiments using PyTorch. Can I integrate Weights and Biases with PyTorch for better\n",
              "\u001b[1;33m    \u001b[0mrun management and visualization of my models?\"                                                                \n",
              "\u001b[1;33m  2 \u001b[0m\"I'm constantly running multiple experiments, how can I use Weights and Biases to compare different runs?\"     \n",
              "\u001b[1;33m  3 \u001b[0m\"Can I track hyperparameters of my machine learning model using Weights and Biases? If so, could you guide me  \n",
              "\u001b[1;33m    \u001b[0mon how to do it?\"                                                                                              \n",
              "\u001b[1;33m  4 \u001b[0m\"Is there a way to log and visualize my model's performance over time in Weights and Biases?\"                  \n",
              "\u001b[1;33m  5 \u001b[0m\"I've been coding in Jupyter notebooks and I heard W&B has a Jupyter extension. How can I make use of it?\"     \n",
              "\u001b[1;33m  6 \u001b[0m\"Can I integrate Weights and Biases with my TensorFlow code? What is the process for that?\"                    \n",
              "\u001b[1;33m  7 \u001b[0m\"How to set up Weights and Biases for tracking a long running job/client?\"                                     \n",
              "\u001b[1;33m  8 \u001b[0m\"What's the process of integrating Weights and Biases with Keras?\"                                             \n",
              "\u001b[1;33m  9 \u001b[0m\"Is there a way to log custom metrics in Weights and Biases?\"                                                  \n",
              "\u001b[1;33m 10 \u001b[0m\"How do I save, load and version my datasets using Weights and Biases?\"                                        \n",
              "\u001b[1;33m 11 \u001b[0m\"How to use Weights and Biases to monitor a PyTorch Lightning training?\"                                       \n",
              "\u001b[1;33m 12 \u001b[0m\"Does Weights and Biases support ROC Curve visualization? If so, how can I log it?\"                            \n",
              "\u001b[1;33m 13 \u001b[0m\"Can I log 3D objects for visualization in Weights and Biases?\"                                                \n",
              "\u001b[1;33m 14 \u001b[0m\"Is there a way to notify me through email or other platforms when a run finishes or encounters a problem?\"    \n",
              "\u001b[1;33m 15 \u001b[0m\"How to retrieve artifact metadata from Weights and Biases after a run?\"                                       \n",
              "\u001b[1;33m 16 \u001b[0m\"Can Weights and Biases be used for distributed training? If yes, how would one set that up?\"                  \n",
              "\u001b[1;33m 17 \u001b[0m\"What are the steps to log the architecture of my machine learning model in Weights and Biases?\"               \n",
              "\u001b[1;33m 18 \u001b[0m\"How are API keys managed in Weights and Biases, and can I generate multiple ones?\"                            \n",
              "\u001b[1;33m 19 \u001b[0m\"Can I share my Weights and Biases project dashboard with collaborators who don't have an account?\"            \n",
              "\u001b[1;33m 20 \u001b[0m\"How do I log my scikit-learn model's metrics to Weights and Biases?\"                                          \n"
            ],
            "text/html": [
              "<pre style=\"white-space:pre;overflow-x:auto;line-height:normal;font-family:Menlo,'DejaVu Sans Mono',consolas,'Courier New',monospace\">\n",
              "<span style=\"color: #808000; text-decoration-color: #808000; font-weight: bold\">  1 </span>\"I'm currently running my experiments using PyTorch. Can I integrate Weights and Biases with PyTorch for better\n",
              "<span style=\"color: #808000; text-decoration-color: #808000; font-weight: bold\">    </span>run management and visualization of my models?\"                                                                \n",
              "<span style=\"color: #808000; text-decoration-color: #808000; font-weight: bold\">  2 </span>\"I'm constantly running multiple experiments, how can I use Weights and Biases to compare different runs?\"     \n",
              "<span style=\"color: #808000; text-decoration-color: #808000; font-weight: bold\">  3 </span>\"Can I track hyperparameters of my machine learning model using Weights and Biases? If so, could you guide me  \n",
              "<span style=\"color: #808000; text-decoration-color: #808000; font-weight: bold\">    </span>on how to do it?\"                                                                                              \n",
              "<span style=\"color: #808000; text-decoration-color: #808000; font-weight: bold\">  4 </span>\"Is there a way to log and visualize my model's performance over time in Weights and Biases?\"                  \n",
              "<span style=\"color: #808000; text-decoration-color: #808000; font-weight: bold\">  5 </span>\"I've been coding in Jupyter notebooks and I heard W&amp;B has a Jupyter extension. How can I make use of it?\"     \n",
              "<span style=\"color: #808000; text-decoration-color: #808000; font-weight: bold\">  6 </span>\"Can I integrate Weights and Biases with my TensorFlow code? What is the process for that?\"                    \n",
              "<span style=\"color: #808000; text-decoration-color: #808000; font-weight: bold\">  7 </span>\"How to set up Weights and Biases for tracking a long running job/client?\"                                     \n",
              "<span style=\"color: #808000; text-decoration-color: #808000; font-weight: bold\">  8 </span>\"What's the process of integrating Weights and Biases with Keras?\"                                             \n",
              "<span style=\"color: #808000; text-decoration-color: #808000; font-weight: bold\">  9 </span>\"Is there a way to log custom metrics in Weights and Biases?\"                                                  \n",
              "<span style=\"color: #808000; text-decoration-color: #808000; font-weight: bold\"> 10 </span>\"How do I save, load and version my datasets using Weights and Biases?\"                                        \n",
              "<span style=\"color: #808000; text-decoration-color: #808000; font-weight: bold\"> 11 </span>\"How to use Weights and Biases to monitor a PyTorch Lightning training?\"                                       \n",
              "<span style=\"color: #808000; text-decoration-color: #808000; font-weight: bold\"> 12 </span>\"Does Weights and Biases support ROC Curve visualization? If so, how can I log it?\"                            \n",
              "<span style=\"color: #808000; text-decoration-color: #808000; font-weight: bold\"> 13 </span>\"Can I log 3D objects for visualization in Weights and Biases?\"                                                \n",
              "<span style=\"color: #808000; text-decoration-color: #808000; font-weight: bold\"> 14 </span>\"Is there a way to notify me through email or other platforms when a run finishes or encounters a problem?\"    \n",
              "<span style=\"color: #808000; text-decoration-color: #808000; font-weight: bold\"> 15 </span>\"How to retrieve artifact metadata from Weights and Biases after a run?\"                                       \n",
              "<span style=\"color: #808000; text-decoration-color: #808000; font-weight: bold\"> 16 </span>\"Can Weights and Biases be used for distributed training? If yes, how would one set that up?\"                  \n",
              "<span style=\"color: #808000; text-decoration-color: #808000; font-weight: bold\"> 17 </span>\"What are the steps to log the architecture of my machine learning model in Weights and Biases?\"               \n",
              "<span style=\"color: #808000; text-decoration-color: #808000; font-weight: bold\"> 18 </span>\"How are API keys managed in Weights and Biases, and can I generate multiple ones?\"                            \n",
              "<span style=\"color: #808000; text-decoration-color: #808000; font-weight: bold\"> 19 </span>\"Can I share my Weights and Biases project dashboard with collaborators who don't have an account?\"            \n",
              "<span style=\"color: #808000; text-decoration-color: #808000; font-weight: bold\"> 20 </span>\"How do I log my scikit-learn model's metrics to Weights and Biases?\"                                          \n",
              "</pre>\n"
            ]
          },
          "metadata": {}
        },
        {
          "output_type": "display_data",
          "data": {
            "text/plain": [
              "\n",
              "\u001b[1;33m  1 \u001b[0m\"Is it possible to log histograms in W&B using PyTorch?\"                                                       \n",
              "\u001b[1;33m  2 \u001b[0m\"What's the way to visualize the confusion matrix in W&B?\"                                                     \n",
              "\u001b[1;33m  3 \u001b[0m\"How could I save and restore models in W&B?\"                                                                  \n",
              "\u001b[1;33m  4 \u001b[0m\"Why am I not able to sync my offline run on W&B?\"                                                             \n",
              "\u001b[1;33m  5 \u001b[0m\"Can W&B be integrated with TensorFlow?\"                                                                       \n",
              "\u001b[1;33m  6 \u001b[0m\"How do I control the frequency of my logging in W&B?\"                                                         \n",
              "\u001b[1;33m  7 \u001b[0m\"Can I use W&B to log hyperparameters for my machine learning model?\"                                          \n",
              "\u001b[1;33m  8 \u001b[0m\"How do I start a new W&B run for my second experiment?\"                                                       \n",
              "\u001b[1;33m  9 \u001b[0m\"Is it possible to update a previous run datas after the run has ended in W&B?\"                                \n",
              "\u001b[1;33m 10 \u001b[0m\"Is there a way to change the visibility of a run in W&B?\"                                                     \n",
              "\u001b[1;33m 11 \u001b[0m\"How to prevent W&B from recording my training scripts?\"                                                       \n",
              "\u001b[1;33m 12 \u001b[0m\"Is W&B able to plot a correlation matrix?\"                                                                    \n",
              "\u001b[1;33m 13 \u001b[0m\"Can I store large files as artifacts in W&B?\"                                                                 \n",
              "\u001b[1;33m 14 \u001b[0m\"Why is my W&B dashboard not showing any data?\"                                                                \n",
              "\u001b[1;33m 15 \u001b[0m\"How to share a report of my run with my team in W&B?\"                                                         \n",
              "\u001b[1;33m 16 \u001b[0m\"Can I compare different model architectures using W&B?\"                                                       \n",
              "\u001b[1;33m 17 \u001b[0m\"Can I track my model's performance across multiple runs in W&B?\"                                              \n",
              "\u001b[1;33m 18 \u001b[0m\"Is there a way to resume a run in W&B after an unintended interruption?\"                                      \n",
              "\u001b[1;33m 19 \u001b[0m\"Why does W&B fail to authenticate when I try and log in?\"                                                     \n",
              "\u001b[1;33m 20 \u001b[0m\"Does W&B provide any feature for autoML workflows?\"                                                           \n"
            ],
            "text/html": [
              "<pre style=\"white-space:pre;overflow-x:auto;line-height:normal;font-family:Menlo,'DejaVu Sans Mono',consolas,'Courier New',monospace\">\n",
              "<span style=\"color: #808000; text-decoration-color: #808000; font-weight: bold\">  1 </span>\"Is it possible to log histograms in W&amp;B using PyTorch?\"                                                       \n",
              "<span style=\"color: #808000; text-decoration-color: #808000; font-weight: bold\">  2 </span>\"What's the way to visualize the confusion matrix in W&amp;B?\"                                                     \n",
              "<span style=\"color: #808000; text-decoration-color: #808000; font-weight: bold\">  3 </span>\"How could I save and restore models in W&amp;B?\"                                                                  \n",
              "<span style=\"color: #808000; text-decoration-color: #808000; font-weight: bold\">  4 </span>\"Why am I not able to sync my offline run on W&amp;B?\"                                                             \n",
              "<span style=\"color: #808000; text-decoration-color: #808000; font-weight: bold\">  5 </span>\"Can W&amp;B be integrated with TensorFlow?\"                                                                       \n",
              "<span style=\"color: #808000; text-decoration-color: #808000; font-weight: bold\">  6 </span>\"How do I control the frequency of my logging in W&amp;B?\"                                                         \n",
              "<span style=\"color: #808000; text-decoration-color: #808000; font-weight: bold\">  7 </span>\"Can I use W&amp;B to log hyperparameters for my machine learning model?\"                                          \n",
              "<span style=\"color: #808000; text-decoration-color: #808000; font-weight: bold\">  8 </span>\"How do I start a new W&amp;B run for my second experiment?\"                                                       \n",
              "<span style=\"color: #808000; text-decoration-color: #808000; font-weight: bold\">  9 </span>\"Is it possible to update a previous run datas after the run has ended in W&amp;B?\"                                \n",
              "<span style=\"color: #808000; text-decoration-color: #808000; font-weight: bold\"> 10 </span>\"Is there a way to change the visibility of a run in W&amp;B?\"                                                     \n",
              "<span style=\"color: #808000; text-decoration-color: #808000; font-weight: bold\"> 11 </span>\"How to prevent W&amp;B from recording my training scripts?\"                                                       \n",
              "<span style=\"color: #808000; text-decoration-color: #808000; font-weight: bold\"> 12 </span>\"Is W&amp;B able to plot a correlation matrix?\"                                                                    \n",
              "<span style=\"color: #808000; text-decoration-color: #808000; font-weight: bold\"> 13 </span>\"Can I store large files as artifacts in W&amp;B?\"                                                                 \n",
              "<span style=\"color: #808000; text-decoration-color: #808000; font-weight: bold\"> 14 </span>\"Why is my W&amp;B dashboard not showing any data?\"                                                                \n",
              "<span style=\"color: #808000; text-decoration-color: #808000; font-weight: bold\"> 15 </span>\"How to share a report of my run with my team in W&amp;B?\"                                                         \n",
              "<span style=\"color: #808000; text-decoration-color: #808000; font-weight: bold\"> 16 </span>\"Can I compare different model architectures using W&amp;B?\"                                                       \n",
              "<span style=\"color: #808000; text-decoration-color: #808000; font-weight: bold\"> 17 </span>\"Can I track my model's performance across multiple runs in W&amp;B?\"                                              \n",
              "<span style=\"color: #808000; text-decoration-color: #808000; font-weight: bold\"> 18 </span>\"Is there a way to resume a run in W&amp;B after an unintended interruption?\"                                      \n",
              "<span style=\"color: #808000; text-decoration-color: #808000; font-weight: bold\"> 19 </span>\"Why does W&amp;B fail to authenticate when I try and log in?\"                                                     \n",
              "<span style=\"color: #808000; text-decoration-color: #808000; font-weight: bold\"> 20 </span>\"Does W&amp;B provide any feature for autoML workflows?\"                                                           \n",
              "</pre>\n"
            ]
          },
          "metadata": {}
        },
        {
          "output_type": "display_data",
          "data": {
            "text/plain": [
              "\n",
              "\u001b[1;33m  1 \u001b[0m\"Hey there, I'm quite new to W&B. Can you guide me on how to sync my offline runs once I get back online?\"     \n",
              "\u001b[1;33m  2 \u001b[0m\"I'm trying to log a wandb.image with a tensor of ints, but it doesn't seem to work. Can you please help me    \n",
              "\u001b[1;33m    \u001b[0mfigure this out?\"                                                                                              \n",
              "\u001b[1;33m  3 \u001b[0m\"I was wondering if it is possible to retrieve the details of the projects to which I have access using the    \n",
              "\u001b[1;33m    \u001b[0mAPI?\"                                                                                                          \n",
              "\u001b[1;33m  4 \u001b[0m\"I'm working on a project where I want to log multiple charts on the same graph, is it possible using W&B?\"    \n",
              "\u001b[1;33m  5 \u001b[0m\"I'm using a Docker container and want to perform regular sweeps. Can you help me understand how to do this    \n",
              "\u001b[1;33m    \u001b[0musing W&B?\"                                                                                                    \n",
              "\u001b[1;33m  6 \u001b[0m\"Is there a way to set up notifications for when a run fails or finishes early in W&B?\"                        \n",
              "\u001b[1;33m  7 \u001b[0m\"Hi, can you guide me on how to use W&B with Kaggle notebooks?\"                                                \n",
              "\u001b[1;33m  8 \u001b[0m\"I need to manage the tags of the runs for my project. Can I add or remove them programmatically using the W&B \n",
              "\u001b[1;33m    \u001b[0mAPI?\"                                                                                                          \n",
              "\u001b[1;33m  9 \u001b[0m\"I would like to know if there's a way to compare two or more runs using W&B.\"                                 \n",
              "\u001b[1;33m 10 \u001b[0m\"Is there an option to clone a run in W&B? If yes, can you guide me on how to do it?\"                          \n"
            ],
            "text/html": [
              "<pre style=\"white-space:pre;overflow-x:auto;line-height:normal;font-family:Menlo,'DejaVu Sans Mono',consolas,'Courier New',monospace\">\n",
              "<span style=\"color: #808000; text-decoration-color: #808000; font-weight: bold\">  1 </span>\"Hey there, I'm quite new to W&amp;B. Can you guide me on how to sync my offline runs once I get back online?\"     \n",
              "<span style=\"color: #808000; text-decoration-color: #808000; font-weight: bold\">  2 </span>\"I'm trying to log a wandb.image with a tensor of ints, but it doesn't seem to work. Can you please help me    \n",
              "<span style=\"color: #808000; text-decoration-color: #808000; font-weight: bold\">    </span>figure this out?\"                                                                                              \n",
              "<span style=\"color: #808000; text-decoration-color: #808000; font-weight: bold\">  3 </span>\"I was wondering if it is possible to retrieve the details of the projects to which I have access using the    \n",
              "<span style=\"color: #808000; text-decoration-color: #808000; font-weight: bold\">    </span>API?\"                                                                                                          \n",
              "<span style=\"color: #808000; text-decoration-color: #808000; font-weight: bold\">  4 </span>\"I'm working on a project where I want to log multiple charts on the same graph, is it possible using W&amp;B?\"    \n",
              "<span style=\"color: #808000; text-decoration-color: #808000; font-weight: bold\">  5 </span>\"I'm using a Docker container and want to perform regular sweeps. Can you help me understand how to do this    \n",
              "<span style=\"color: #808000; text-decoration-color: #808000; font-weight: bold\">    </span>using W&amp;B?\"                                                                                                    \n",
              "<span style=\"color: #808000; text-decoration-color: #808000; font-weight: bold\">  6 </span>\"Is there a way to set up notifications for when a run fails or finishes early in W&amp;B?\"                        \n",
              "<span style=\"color: #808000; text-decoration-color: #808000; font-weight: bold\">  7 </span>\"Hi, can you guide me on how to use W&amp;B with Kaggle notebooks?\"                                                \n",
              "<span style=\"color: #808000; text-decoration-color: #808000; font-weight: bold\">  8 </span>\"I need to manage the tags of the runs for my project. Can I add or remove them programmatically using the W&amp;B \n",
              "<span style=\"color: #808000; text-decoration-color: #808000; font-weight: bold\">    </span>API?\"                                                                                                          \n",
              "<span style=\"color: #808000; text-decoration-color: #808000; font-weight: bold\">  9 </span>\"I would like to know if there's a way to compare two or more runs using W&amp;B.\"                                 \n",
              "<span style=\"color: #808000; text-decoration-color: #808000; font-weight: bold\"> 10 </span>\"Is there an option to clone a run in W&amp;B? If yes, can you guide me on how to do it?\"                          \n",
              "</pre>\n"
            ]
          },
          "metadata": {}
        },
        {
          "output_type": "display_data",
          "data": {
            "text/plain": [
              "\n",
              "\u001b[1;33m  1 \u001b[0m\"Hi, I'm trying to compare two different models in the same project using W&B, how should I go for this?\"      \n",
              "\u001b[1;33m  2 \u001b[0m\"Can I use W&B to log the hyperparameters of my deep learning model, and if so, how?\"                          \n",
              "\u001b[1;33m  3 \u001b[0m\"I'm working with Jupyter Notebooks, is there any way to integrate W&B there?\"                                 \n",
              "\u001b[1;33m  4 \u001b[0m\"Is it possible to pause and resume logging in the middle of training using W&B?\"                              \n",
              "\u001b[1;33m  5 \u001b[0m\"Hello, how can I visually compare different runs with W&B?\"                                                   \n",
              "\u001b[1;33m  6 \u001b[0m\"I want to log my custom metrics in W&B, how do I do this?\"                                                    \n",
              "\u001b[1;33m  7 \u001b[0m\"Can W&B support logging and visualizing embeddings?\"                                                          \n",
              "\u001b[1;33m  8 \u001b[0m\"Is there a way to link artifacts in W&B to specific runs or experiments?\"                                     \n",
              "\u001b[1;33m  9 \u001b[0m\"How can I log different types of plots like ROC curve or confusion matrix using W&B?\"                         \n",
              "\u001b[1;33m 10 \u001b[0m\"I'm using PyTorch for my project. How can I integrate W&B into my workflow?\"                                  \n"
            ],
            "text/html": [
              "<pre style=\"white-space:pre;overflow-x:auto;line-height:normal;font-family:Menlo,'DejaVu Sans Mono',consolas,'Courier New',monospace\">\n",
              "<span style=\"color: #808000; text-decoration-color: #808000; font-weight: bold\">  1 </span>\"Hi, I'm trying to compare two different models in the same project using W&amp;B, how should I go for this?\"      \n",
              "<span style=\"color: #808000; text-decoration-color: #808000; font-weight: bold\">  2 </span>\"Can I use W&amp;B to log the hyperparameters of my deep learning model, and if so, how?\"                          \n",
              "<span style=\"color: #808000; text-decoration-color: #808000; font-weight: bold\">  3 </span>\"I'm working with Jupyter Notebooks, is there any way to integrate W&amp;B there?\"                                 \n",
              "<span style=\"color: #808000; text-decoration-color: #808000; font-weight: bold\">  4 </span>\"Is it possible to pause and resume logging in the middle of training using W&amp;B?\"                              \n",
              "<span style=\"color: #808000; text-decoration-color: #808000; font-weight: bold\">  5 </span>\"Hello, how can I visually compare different runs with W&amp;B?\"                                                   \n",
              "<span style=\"color: #808000; text-decoration-color: #808000; font-weight: bold\">  6 </span>\"I want to log my custom metrics in W&amp;B, how do I do this?\"                                                    \n",
              "<span style=\"color: #808000; text-decoration-color: #808000; font-weight: bold\">  7 </span>\"Can W&amp;B support logging and visualizing embeddings?\"                                                          \n",
              "<span style=\"color: #808000; text-decoration-color: #808000; font-weight: bold\">  8 </span>\"Is there a way to link artifacts in W&amp;B to specific runs or experiments?\"                                     \n",
              "<span style=\"color: #808000; text-decoration-color: #808000; font-weight: bold\">  9 </span>\"How can I log different types of plots like ROC curve or confusion matrix using W&amp;B?\"                         \n",
              "<span style=\"color: #808000; text-decoration-color: #808000; font-weight: bold\"> 10 </span>\"I'm using PyTorch for my project. How can I integrate W&amp;B into my workflow?\"                                  \n",
              "</pre>\n"
            ]
          },
          "metadata": {}
        },
        {
          "output_type": "display_data",
          "data": {
            "text/plain": [
              "\n",
              "\u001b[1;33m  1 \u001b[0m\"How can I collaborate with my team using Weights & Biases? Is there a way to share projects or experiments?\"  \n",
              "\u001b[1;33m  2 \u001b[0m\"I'm a beginner. Can you guide me on how to start a new project in Weights & Biases?\"                          \n",
              "\u001b[1;33m  3 \u001b[0m\"Can Weights & Biases integrate with PyTorch for logging metrics and visualizations?\"                          \n",
              "\u001b[1;33m  4 \u001b[0m\"Is it possible to track hyperparameters using Weights & Biases, and if so, how do I go about this?\"           \n",
              "\u001b[1;33m  5 \u001b[0m\"I'm trying to log my model's performance for each epoch in Weights & Biases. Could you provide some help      \n",
              "\u001b[1;33m    \u001b[0mregarding this?\"                                                                                               \n",
              "\u001b[1;33m  6 \u001b[0m\"I am working on a machine learning model that takes a long time to train. How can I use Weights & Biases to   \n",
              "\u001b[1;33m    \u001b[0mresume interrupted runs?\"                                                                                      \n",
              "\u001b[1;33m  7 \u001b[0m\"Where can I view a list of all my experiment runs and their corresponding details in Weights & Biases?\"       \n",
              "\u001b[1;33m  8 \u001b[0m\"How do I log my model's gradients and weights in Weights & Biases during training?\"                           \n",
              "\u001b[1;33m  9 \u001b[0m\"How can I use Weights & Biases to compare different models and their performances?\"                           \n",
              "\u001b[1;33m 10 \u001b[0m\"What's the best way to store and retrieve data artifacts using Weights & Biases?\"                             \n",
              "\u001b[1;33m 11 \u001b[0m\"Is there a way to integrate Weights & Biases with my TensorFlow workflows?\"                                   \n",
              "\u001b[1;33m 12 \u001b[0m\"How can I customize the charts on the Weights & Biases dashboard to better analyze my data?\"                  \n",
              "\u001b[1;33m 13 \u001b[0m\"Can Weights & Biases help me track my model's inference time, specifically for deployment?\"                   \n",
              "\u001b[1;33m 14 \u001b[0m\"I need to manage multiple machine learning projects simultaneously. Does Weights & Biases offer any project   \n",
              "\u001b[1;33m    \u001b[0mmanagement tools?\"                                                                                             \n",
              "\u001b[1;33m 15 \u001b[0m\"Can I schedule and automate my model training tasks through Weights & Biases?\"                                \n",
              "\u001b[1;33m 16 \u001b[0m\"How do I use Weights & Biases to keep track of my code versions and changes?\"                                 \n",
              "\u001b[1;33m 17 \u001b[0m\"Can I use Weights & Biases for automated hyperparameter tuning?\"                                              \n",
              "\u001b[1;33m 18 \u001b[0m\"How do I upload my custom datasets to Weights & Biases?\"                                                      \n",
              "\u001b[1;33m 19 \u001b[0m\"I am using Keras for my projects. How do I integrate it with Weights & Biases?\"                               \n",
              "\u001b[1;33m 20 \u001b[0m\"Does Weights & Biases support real-time collaboration? How can my team and I work together on a project?\"     \n"
            ],
            "text/html": [
              "<pre style=\"white-space:pre;overflow-x:auto;line-height:normal;font-family:Menlo,'DejaVu Sans Mono',consolas,'Courier New',monospace\">\n",
              "<span style=\"color: #808000; text-decoration-color: #808000; font-weight: bold\">  1 </span>\"How can I collaborate with my team using Weights &amp; Biases? Is there a way to share projects or experiments?\"  \n",
              "<span style=\"color: #808000; text-decoration-color: #808000; font-weight: bold\">  2 </span>\"I'm a beginner. Can you guide me on how to start a new project in Weights &amp; Biases?\"                          \n",
              "<span style=\"color: #808000; text-decoration-color: #808000; font-weight: bold\">  3 </span>\"Can Weights &amp; Biases integrate with PyTorch for logging metrics and visualizations?\"                          \n",
              "<span style=\"color: #808000; text-decoration-color: #808000; font-weight: bold\">  4 </span>\"Is it possible to track hyperparameters using Weights &amp; Biases, and if so, how do I go about this?\"           \n",
              "<span style=\"color: #808000; text-decoration-color: #808000; font-weight: bold\">  5 </span>\"I'm trying to log my model's performance for each epoch in Weights &amp; Biases. Could you provide some help      \n",
              "<span style=\"color: #808000; text-decoration-color: #808000; font-weight: bold\">    </span>regarding this?\"                                                                                               \n",
              "<span style=\"color: #808000; text-decoration-color: #808000; font-weight: bold\">  6 </span>\"I am working on a machine learning model that takes a long time to train. How can I use Weights &amp; Biases to   \n",
              "<span style=\"color: #808000; text-decoration-color: #808000; font-weight: bold\">    </span>resume interrupted runs?\"                                                                                      \n",
              "<span style=\"color: #808000; text-decoration-color: #808000; font-weight: bold\">  7 </span>\"Where can I view a list of all my experiment runs and their corresponding details in Weights &amp; Biases?\"       \n",
              "<span style=\"color: #808000; text-decoration-color: #808000; font-weight: bold\">  8 </span>\"How do I log my model's gradients and weights in Weights &amp; Biases during training?\"                           \n",
              "<span style=\"color: #808000; text-decoration-color: #808000; font-weight: bold\">  9 </span>\"How can I use Weights &amp; Biases to compare different models and their performances?\"                           \n",
              "<span style=\"color: #808000; text-decoration-color: #808000; font-weight: bold\"> 10 </span>\"What's the best way to store and retrieve data artifacts using Weights &amp; Biases?\"                             \n",
              "<span style=\"color: #808000; text-decoration-color: #808000; font-weight: bold\"> 11 </span>\"Is there a way to integrate Weights &amp; Biases with my TensorFlow workflows?\"                                   \n",
              "<span style=\"color: #808000; text-decoration-color: #808000; font-weight: bold\"> 12 </span>\"How can I customize the charts on the Weights &amp; Biases dashboard to better analyze my data?\"                  \n",
              "<span style=\"color: #808000; text-decoration-color: #808000; font-weight: bold\"> 13 </span>\"Can Weights &amp; Biases help me track my model's inference time, specifically for deployment?\"                   \n",
              "<span style=\"color: #808000; text-decoration-color: #808000; font-weight: bold\"> 14 </span>\"I need to manage multiple machine learning projects simultaneously. Does Weights &amp; Biases offer any project   \n",
              "<span style=\"color: #808000; text-decoration-color: #808000; font-weight: bold\">    </span>management tools?\"                                                                                             \n",
              "<span style=\"color: #808000; text-decoration-color: #808000; font-weight: bold\"> 15 </span>\"Can I schedule and automate my model training tasks through Weights &amp; Biases?\"                                \n",
              "<span style=\"color: #808000; text-decoration-color: #808000; font-weight: bold\"> 16 </span>\"How do I use Weights &amp; Biases to keep track of my code versions and changes?\"                                 \n",
              "<span style=\"color: #808000; text-decoration-color: #808000; font-weight: bold\"> 17 </span>\"Can I use Weights &amp; Biases for automated hyperparameter tuning?\"                                              \n",
              "<span style=\"color: #808000; text-decoration-color: #808000; font-weight: bold\"> 18 </span>\"How do I upload my custom datasets to Weights &amp; Biases?\"                                                      \n",
              "<span style=\"color: #808000; text-decoration-color: #808000; font-weight: bold\"> 19 </span>\"I am using Keras for my projects. How do I integrate it with Weights &amp; Biases?\"                               \n",
              "<span style=\"color: #808000; text-decoration-color: #808000; font-weight: bold\"> 20 </span>\"Does Weights &amp; Biases support real-time collaboration? How can my team and I work together on a project?\"     \n",
              "</pre>\n"
            ]
          },
          "metadata": {}
        }
      ],
      "source": [
        "generate_and_print(system_prompt, user_prompt=generation_prompt)"
      ]
    },
    {
      "cell_type": "markdown",
      "metadata": {
        "id": "_7tAPv99_NWg"
      },
      "source": [
        "# Add Context & Response"
      ]
    },
    {
      "cell_type": "markdown",
      "metadata": {
        "id": "i5vL_6ro_NWg"
      },
      "source": [
        "Let's create a function to find all the markdown files in a directory and return it's content and path"
      ]
    },
    {
      "cell_type": "code",
      "execution_count": 11,
      "metadata": {
        "colab": {
          "base_uri": "https://localhost:8080/"
        },
        "id": "UmtGJdq7_NWg",
        "outputId": "e895a501-a096-4957-beeb-608b640eb51d"
      },
      "outputs": [
        {
          "output_type": "stream",
          "name": "stdout",
          "text": [
            "Cloning into 'edu'...\n",
            "remote: Enumerating objects: 2493, done.\u001b[K\n",
            "remote: Counting objects: 100% (1036/1036), done.\u001b[K\n",
            "remote: Compressing objects: 100% (387/387), done.\u001b[K\n",
            "remote: Total 2493 (delta 722), reused 858 (delta 641), pack-reused 1457\u001b[K\n",
            "Receiving objects: 100% (2493/2493), 22.61 MiB | 14.91 MiB/s, done.\n",
            "Resolving deltas: 100% (1418/1418), done.\n"
          ]
        }
      ],
      "source": [
        "# check if directory exists, if not, create it and download the files, e.g if running in colab\n",
        "if not os.path.exists(\"../docs_sample/\"):\n",
        "  !git clone https://github.com/wandb/edu.git\n",
        "  !cp -r edu/llm-apps-course/docs_sample ../"
      ]
    },
    {
      "cell_type": "code",
      "execution_count": 25,
      "metadata": {
        "colab": {
          "base_uri": "https://localhost:8080/"
        },
        "id": "zKiC6KNn_NWg",
        "outputId": "a371c9a2-e909-4c7e-a3c3-12e1fb83dbcf"
      },
      "outputs": [
        {
          "output_type": "execute_result",
          "data": {
            "text/plain": [
              "11"
            ]
          },
          "metadata": {},
          "execution_count": 25
        }
      ],
      "source": [
        "def find_md_files(directory):\n",
        "    \"Find all markdown files in a directory and return their content and path\"\n",
        "    md_files = []\n",
        "    for file in Path(directory).rglob(\"*.md\"):\n",
        "        with open(file, 'r', encoding='utf-8') as md_file:\n",
        "            content = md_file.read()\n",
        "        md_files.append((file.relative_to(directory), content))\n",
        "    return md_files\n",
        "\n",
        "documents = find_md_files('../docs_sample/')\n",
        "len(documents)"
      ]
    },
    {
      "cell_type": "markdown",
      "metadata": {
        "id": "dokd7ax1_NWg"
      },
      "source": [
        "Let's check if the documents are not too long for our context window. We need to compute the number of tokens in each document."
      ]
    },
    {
      "cell_type": "code",
      "execution_count": 26,
      "metadata": {
        "colab": {
          "base_uri": "https://localhost:8080/"
        },
        "id": "kXzFFTzk_NWg",
        "outputId": "e0c71fa7-4c8c-429b-c72f-d422a40e2a80"
      },
      "outputs": [
        {
          "output_type": "stream",
          "name": "stdout",
          "text": [
            "[956, 365, 1206, 2596, 2093, 2529, 803, 537, 4179, 2940, 1644]\n"
          ]
        }
      ],
      "source": [
        "tokenizer = tiktoken.encoding_for_model(MODEL_NAME)\n",
        "tokens_per_document = [len(tokenizer.encode(document)) for _, document in documents]\n",
        "pprint(tokens_per_document)"
      ]
    },
    {
      "cell_type": "markdown",
      "metadata": {
        "id": "ZCQj6-vY_NWg"
      },
      "source": [
        "Some of them are too long - instead of using entire documents, we'll extract a random chunk from them"
      ]
    },
    {
      "cell_type": "code",
      "execution_count": 19,
      "metadata": {
        "id": "tUS6sEq8_NWg"
      },
      "outputs": [],
      "source": [
        "# extract a random chunk from a document\n",
        "def extract_random_chunk(document, max_tokens=512):\n",
        "    tokens = tokenizer.encode(document)\n",
        "    if len(tokens) <= max_tokens:\n",
        "        return document\n",
        "    start = random.randint(0, len(tokens) - max_tokens)\n",
        "    end = start + max_tokens\n",
        "    return tokenizer.decode(tokens[start:end])"
      ]
    },
    {
      "cell_type": "markdown",
      "metadata": {
        "id": "TdWtIxSl_NWh"
      },
      "source": [
        "Now, we will use that extracted chunk to create a question that can be answered by the document. This way we can generate questions that our current documentation is capable of answering."
      ]
    },
    {
      "cell_type": "code",
      "execution_count": 27,
      "metadata": {
        "id": "8eJMVIPX_NWh"
      },
      "outputs": [],
      "source": [
        "def generate_context_prompt(chunk):\n",
        "    prompt = \"Generate a support question from a W&B user\\n\" +\\\n",
        "        \"The question should be answerable by provided fragment of W&B documentation.\\n\" +\\\n",
        "        \"Below you will find a fragment of W&B documentation:\\n\" +\\\n",
        "        chunk + \"\\n\" +\\\n",
        "        \"Let's start!\"\n",
        "    return prompt\n",
        "\n",
        "chunk = extract_random_chunk(documents[0][1])\n",
        "generation_prompt = generate_context_prompt(chunk)"
      ]
    },
    {
      "cell_type": "code",
      "execution_count": 12,
      "metadata": {
        "colab": {
          "base_uri": "https://localhost:8080/",
          "height": 811
        },
        "id": "N6xuvlS8_NWh",
        "outputId": "f8fd287b-bcb9-43eb-ab3f-bb3f2a1cedc0"
      },
      "outputs": [
        {
          "output_type": "execute_result",
          "data": {
            "text/plain": [
              "Generate a support question from a W&B user The question should be answerable by provided fragment of W&B          \n",
              "documentation. Below you will find a fragment of W&B documentation: -page.md#search-for-runs) of the \u001b]8;id=514735;../pages/project-page.md\u001b\\\u001b[4;34mProject Page\u001b[0m\u001b]8;;\u001b\\, \n",
              "click the table icon in the upper-right.  This will expand the sidebar into the full \u001b]8;id=918419;runs-table.md\u001b\\\u001b[4;34mruns table\u001b[0m\u001b]8;;\u001b\\.                   \n",
              "\n",
              "Hover over a run in the table to see a checkbox on the left or look in the header row for a checkbox that will     \n",
              "allow you to select all runs.                                                                                      \n",
              "\n",
              "Click the checkbox to enable bulk actions. Select the runs to which you'd like to apply your tag(s).               \n",
              "\n",
              "Click the Tag button above the rows of runs.                                                                       \n",
              "\n",
              "Type a tag you'd like to add and click \"Add\" below the text box to add a new tag.                                  \n",
              "\n",
              "\n",
              "This method is best suited to applying a tag or tags to a single run by hand.                                      \n",
              "\n",
              "In the left sidebar of the \u001b]8;id=292450;../pages/run-page.md\u001b\\\u001b[4;34mRun Page\u001b[0m\u001b]8;;\u001b\\, click the top \u001b]8;id=450036;../pages/run-page.md#overview-tab\u001b\\\u001b[4;34mOverview tab\u001b[0m\u001b]8;;\u001b\\.                                                   \n",
              "\n",
              "Next to \"Tags\" is a gray ➕ button. Click on that plus to add a tag.                                               \n",
              "\n",
              "Type a tag you'd like to add and click \"Add\" below the text box to add a new tag.                                  \n",
              "\n",
              "\n",
              "\n",
              "                                                \u001b[1;4mHow to remove tags\u001b[0m                                                 \n",
              "\n",
              "Tags can also be removed from runs via the UI.                                                                     \n",
              "\n",
              "\n",
              "<Tabs defaultValue=\"projectpage\" values={[ {label: 'Project Page', value: 'projectpage'}, {label: 'Run Page',      \n",
              "value: 'runpage'}, ]}>                                                                                             \n",
              "\n",
              "This method is best suited to removing tags from a large numbers of runs.                                          \n",
              "\n",
              "In the \u001b]8;id=124066;../pages/project-page.md#search-for-runs\u001b\\\u001b[4;34mruns sidebar\u001b[0m\u001b]8;;\u001b\\ of the \u001b]8;id=778728;../pages/project-page.md\u001b\\\u001b[4;34mProject Page\u001b[0m\u001b]8;;\u001b\\,  click the table icon in the upper-right.  This will expand the sidebar   \n",
              "into the full \u001b]8;id=763395;runs-table.md\u001b\\\u001b[4;34mruns table\u001b[0m\u001b]8;;\u001b\\.                                                                                          \n",
              "\n",
              "Hover over a run in the table to see a checkbox on the left or look in the header row for a checkbox that will     \n",
              "allow you to select all runs.                                                                                      \n",
              "\n",
              "Click either checkbox to enable bulk actions. Select the runs to from which you'd like to remove your tag(s).      \n",
              "\n",
              "Click the Tag button above the rows of runs.                                                                       \n",
              "\n",
              "Click the checkbox next to a tag to remove it from the run.                                                        \n",
              "\n",
              "\n",
              "In the left sidebar of the \u001b]8;id=328683;../pages/run-page.md\u001b\\\u001b[4;34mRun Page,\u001b[0m\u001b]8;;\u001b\\ click the top [Overview tab](../pages/run-page.md Let's start!                \n"
            ],
            "text/html": [
              "<pre style=\"white-space:pre;overflow-x:auto;line-height:normal;font-family:Menlo,'DejaVu Sans Mono',consolas,'Courier New',monospace\">Generate a support question from a W&amp;B user The question should be answerable by provided fragment of W&amp;B          \n",
              "documentation. Below you will find a fragment of W&amp;B documentation: -page.md#search-for-runs) of the <a href=\"../pages/project-page.md\" target=\"_blank\"><span style=\"color: #000080; text-decoration-color: #000080; text-decoration: underline\">Project Page</span></a>, \n",
              "click the table icon in the upper-right.  This will expand the sidebar into the full <a href=\"runs-table.md\" target=\"_blank\"><span style=\"color: #000080; text-decoration-color: #000080; text-decoration: underline\">runs table</span></a>.                   \n",
              "\n",
              "Hover over a run in the table to see a checkbox on the left or look in the header row for a checkbox that will     \n",
              "allow you to select all runs.                                                                                      \n",
              "\n",
              "Click the checkbox to enable bulk actions. Select the runs to which you'd like to apply your tag(s).               \n",
              "\n",
              "Click the Tag button above the rows of runs.                                                                       \n",
              "\n",
              "Type a tag you'd like to add and click \"Add\" below the text box to add a new tag.                                  \n",
              "\n",
              "\n",
              "This method is best suited to applying a tag or tags to a single run by hand.                                      \n",
              "\n",
              "In the left sidebar of the <a href=\"../pages/run-page.md\" target=\"_blank\"><span style=\"color: #000080; text-decoration-color: #000080; text-decoration: underline\">Run Page</span></a>, click the top <a href=\"../pages/run-page.md#overview-tab\" target=\"_blank\"><span style=\"color: #000080; text-decoration-color: #000080; text-decoration: underline\">Overview tab</span></a>.                                                   \n",
              "\n",
              "Next to \"Tags\" is a gray ➕ button. Click on that plus to add a tag.                                               \n",
              "\n",
              "Type a tag you'd like to add and click \"Add\" below the text box to add a new tag.                                  \n",
              "\n",
              "\n",
              "\n",
              "                                                <span style=\"font-weight: bold; text-decoration: underline\">How to remove tags</span>                                                 \n",
              "\n",
              "Tags can also be removed from runs via the UI.                                                                     \n",
              "\n",
              "\n",
              "&lt;Tabs defaultValue=\"projectpage\" values={[ {label: 'Project Page', value: 'projectpage'}, {label: 'Run Page',      \n",
              "value: 'runpage'}, ]}&gt;                                                                                             \n",
              "\n",
              "This method is best suited to removing tags from a large numbers of runs.                                          \n",
              "\n",
              "In the <a href=\"../pages/project-page.md#search-for-runs\" target=\"_blank\"><span style=\"color: #000080; text-decoration-color: #000080; text-decoration: underline\">runs sidebar</span></a> of the <a href=\"../pages/project-page.md\" target=\"_blank\"><span style=\"color: #000080; text-decoration-color: #000080; text-decoration: underline\">Project Page</span></a>,  click the table icon in the upper-right.  This will expand the sidebar   \n",
              "into the full <a href=\"runs-table.md\" target=\"_blank\"><span style=\"color: #000080; text-decoration-color: #000080; text-decoration: underline\">runs table</span></a>.                                                                                          \n",
              "\n",
              "Hover over a run in the table to see a checkbox on the left or look in the header row for a checkbox that will     \n",
              "allow you to select all runs.                                                                                      \n",
              "\n",
              "Click either checkbox to enable bulk actions. Select the runs to from which you'd like to remove your tag(s).      \n",
              "\n",
              "Click the Tag button above the rows of runs.                                                                       \n",
              "\n",
              "Click the checkbox next to a tag to remove it from the run.                                                        \n",
              "\n",
              "\n",
              "In the left sidebar of the <a href=\"../pages/run-page.md\" target=\"_blank\"><span style=\"color: #000080; text-decoration-color: #000080; text-decoration: underline\">Run Page,</span></a> click the top [Overview tab](../pages/run-page.md Let's start!                \n",
              "</pre>\n"
            ]
          },
          "metadata": {},
          "execution_count": 12
        }
      ],
      "source": [
        "Markdown(generation_prompt)"
      ]
    },
    {
      "cell_type": "markdown",
      "metadata": {
        "id": "n_SPe2mv_NWh"
      },
      "source": [
        "Let's generate 3 possible questions:"
      ]
    },
    {
      "cell_type": "code",
      "execution_count": 15,
      "metadata": {
        "colab": {
          "base_uri": "https://localhost:8080/",
          "height": 265
        },
        "id": "GfvlYdLK_NWh",
        "outputId": "100b8897-31e0-4bc6-d217-53040d9322e9"
      },
      "outputs": [
        {
          "output_type": "display_data",
          "data": {
            "text/plain": [
              "How do I apply tags to multiple runs at once in W&B?                                                               \n"
            ],
            "text/html": [
              "<pre style=\"white-space:pre;overflow-x:auto;line-height:normal;font-family:Menlo,'DejaVu Sans Mono',consolas,'Courier New',monospace\">How do I apply tags to multiple runs at once in W&amp;B?                                                               \n",
              "</pre>\n"
            ]
          },
          "metadata": {}
        },
        {
          "output_type": "display_data",
          "data": {
            "text/plain": [
              "Question: How can I remove tags from multiple runs?                                                                \n",
              "\n",
              "Answer: To remove tags from multiple runs, you can follow these steps:                                             \n",
              "\n",
              "\u001b[1;33m 1 \u001b[0mGo to the Project Page.                                                                                         \n",
              "\u001b[1;33m 2 \u001b[0mClick on the table icon in the upper-right corner of the runs sidebar.                                          \n",
              "\u001b[1;33m 3 \u001b[0mHover over a run in the table to see a checkbox on the left or look for a checkbox in the header row to select  \n",
              "\u001b[1;33m   \u001b[0mall runs.                                                                                                       \n",
              "\u001b[1;33m 4 \u001b[0mClick the checkbox to enable bulk actions.                                                                      \n",
              "\u001b[1;33m 5 \u001b[0mSelect the runs from which you want to remove the tag(s).                                                       \n",
              "\u001b[1;33m 6 \u001b[0mClick the Tag button above the rows of runs.                                                                    \n",
              "\u001b[1;33m 7 \u001b[0mClick the checkbox next to the tag you want to remove from the runs.                                            \n",
              "\u001b[1;33m 8 \u001b[0mThe tag will be removed from the selected runs.                                                                 \n"
            ],
            "text/html": [
              "<pre style=\"white-space:pre;overflow-x:auto;line-height:normal;font-family:Menlo,'DejaVu Sans Mono',consolas,'Courier New',monospace\">Question: How can I remove tags from multiple runs?                                                                \n",
              "\n",
              "Answer: To remove tags from multiple runs, you can follow these steps:                                             \n",
              "\n",
              "<span style=\"color: #808000; text-decoration-color: #808000; font-weight: bold\"> 1 </span>Go to the Project Page.                                                                                         \n",
              "<span style=\"color: #808000; text-decoration-color: #808000; font-weight: bold\"> 2 </span>Click on the table icon in the upper-right corner of the runs sidebar.                                          \n",
              "<span style=\"color: #808000; text-decoration-color: #808000; font-weight: bold\"> 3 </span>Hover over a run in the table to see a checkbox on the left or look for a checkbox in the header row to select  \n",
              "<span style=\"color: #808000; text-decoration-color: #808000; font-weight: bold\">   </span>all runs.                                                                                                       \n",
              "<span style=\"color: #808000; text-decoration-color: #808000; font-weight: bold\"> 4 </span>Click the checkbox to enable bulk actions.                                                                      \n",
              "<span style=\"color: #808000; text-decoration-color: #808000; font-weight: bold\"> 5 </span>Select the runs from which you want to remove the tag(s).                                                       \n",
              "<span style=\"color: #808000; text-decoration-color: #808000; font-weight: bold\"> 6 </span>Click the Tag button above the rows of runs.                                                                    \n",
              "<span style=\"color: #808000; text-decoration-color: #808000; font-weight: bold\"> 7 </span>Click the checkbox next to the tag you want to remove from the runs.                                            \n",
              "<span style=\"color: #808000; text-decoration-color: #808000; font-weight: bold\"> 8 </span>The tag will be removed from the selected runs.                                                                 \n",
              "</pre>\n"
            ]
          },
          "metadata": {}
        },
        {
          "output_type": "display_data",
          "data": {
            "text/plain": [
              "How can I remove tags from multiple runs on the Project Page in W&B?                                               \n"
            ],
            "text/html": [
              "<pre style=\"white-space:pre;overflow-x:auto;line-height:normal;font-family:Menlo,'DejaVu Sans Mono',consolas,'Courier New',monospace\">How can I remove tags from multiple runs on the Project Page in W&amp;B?                                               \n",
              "</pre>\n"
            ]
          },
          "metadata": {}
        }
      ],
      "source": [
        "generate_and_print(system_prompt, generation_prompt, n=3)"
      ]
    },
    {
      "cell_type": "markdown",
      "metadata": {
        "id": "R20gPiAE_NWh"
      },
      "source": [
        "> As you can see, sometimes the generation contains an intro phrase like: \"Sure, here's a support question based on the documentation:\", we may want to put some instructions to avoid this."
      ]
    },
    {
      "cell_type": "markdown",
      "metadata": {
        "id": "JzkePWEt_NWh"
      },
      "source": [
        "### Level 5 prompt\n",
        "\n",
        "Complex directive that includes the following:\n",
        "- Description of high-level goal\n",
        "- A detailed bulleted list of sub-tasks\n",
        "- An explicit statement asking LLM to explain its own output\n",
        "- A guideline on how LLM output will be evaluated\n",
        "- Few-shot examples"
      ]
    },
    {
      "cell_type": "code",
      "execution_count": 8,
      "metadata": {
        "id": "6S3rz7S3_NWh"
      },
      "outputs": [],
      "source": [
        "# we will use GPT4 from here, as it gives better answers and abides to instructions better\n",
        "MODEL_NAME = \"gpt-4\""
      ]
    },
    {
      "cell_type": "code",
      "execution_count": 13,
      "metadata": {
        "id": "fwN9QduG_NWh"
      },
      "outputs": [],
      "source": [
        "# read system_template.txt file into an f-string\n",
        "with open(\"/content/edu/llm-apps-course/notebooks/system_template.txt\", \"r\") as file:\n",
        "    system_prompt = file.read()"
      ]
    },
    {
      "cell_type": "code",
      "execution_count": 14,
      "metadata": {
        "colab": {
          "base_uri": "https://localhost:8080/",
          "height": 100
        },
        "id": "eYydM3kO_NWh",
        "outputId": "29953273-a88a-40e5-f3e1-626c7b3c527c"
      },
      "outputs": [
        {
          "output_type": "execute_result",
          "data": {
            "text/plain": [
              "You are a creative assistant with the goal to generate a synthetic dataset of Weights & Biases (W&B) user          \n",
              "questions. W&B users are asking these questions to a bot, so they don't know the answer and their questions are    \n",
              "grounded in what they're trying to achieve. We are interested in questions that can be answered by W&B             \n",
              "documentation. But the users don't have access to this documentation, so you need to imagine what they're trying to\n",
              "do and use according language.                                                                                     \n"
            ],
            "text/html": [
              "<pre style=\"white-space:pre;overflow-x:auto;line-height:normal;font-family:Menlo,'DejaVu Sans Mono',consolas,'Courier New',monospace\">You are a creative assistant with the goal to generate a synthetic dataset of Weights &amp; Biases (W&amp;B) user          \n",
              "questions. W&amp;B users are asking these questions to a bot, so they don't know the answer and their questions are    \n",
              "grounded in what they're trying to achieve. We are interested in questions that can be answered by W&amp;B             \n",
              "documentation. But the users don't have access to this documentation, so you need to imagine what they're trying to\n",
              "do and use according language.                                                                                     \n",
              "</pre>\n"
            ]
          },
          "metadata": {},
          "execution_count": 14
        }
      ],
      "source": [
        "Markdown(system_prompt)"
      ]
    },
    {
      "cell_type": "code",
      "execution_count": 15,
      "metadata": {
        "id": "Coa19PJW_NWh"
      },
      "outputs": [],
      "source": [
        "# read prompt_template.txt file into an f-string\n",
        "with open(\"/content/edu/llm-apps-course/notebooks/prompt_template.txt\", \"r\") as file:\n",
        "    prompt_template = file.read()"
      ]
    },
    {
      "cell_type": "code",
      "execution_count": 16,
      "metadata": {
        "colab": {
          "base_uri": "https://localhost:8080/",
          "height": 397
        },
        "id": "GareJ2t4_NWi",
        "outputId": "fb318a12-fd8e-4d85-bb78-44247861093c"
      },
      "outputs": [
        {
          "output_type": "execute_result",
          "data": {
            "text/plain": [
              "Here are some examples of real user questions, you will be judged by how well you match this distribution.         \n",
              "\n",
              "\u001b[33m───────────────────────────────────────────────────────────────────────────────────────────────────────────────────\u001b[0m\n",
              "{QUESTIONS}                                                                                                        \n",
              "\n",
              "\u001b[33m───────────────────────────────────────────────────────────────────────────────────────────────────────────────────\u001b[0m\n",
              "In the next step, you will read a fragment of W&B documentation. This will serve as inspiration for synthetic user \n",
              "question and the source of the answer. Here is the document fragment:                                              \n",
              "\n",
              "\u001b[33m───────────────────────────────────────────────────────────────────────────────────────────────────────────────────\u001b[0m\n",
              "{CHUNK}                                                                                                            \n",
              "\n",
              "\u001b[33m───────────────────────────────────────────────────────────────────────────────────────────────────────────────────\u001b[0m\n",
              "You will now generate a user question and corresponding answer based on the above document. First, explain the user\n",
              "context and what problems they might be trying to solve. Second, generate user question. Third, provide the        \n",
              "accurate and concise answer in markdown format to the user question using the documentation. You'll be evaluated   \n",
              "on:                                                                                                                \n",
              "\n",
              "\u001b[1;33m • \u001b[0mhow realistic is that this question will come from a real user one day?                                         \n",
              "\u001b[1;33m • \u001b[0mis this question about W&B?                                                                                     \n",
              "\u001b[1;33m • \u001b[0mcan the question be answered using the W&B document fragment above?                                             \n",
              "\u001b[1;33m • \u001b[0mhow accurate is the answer? Remember that users have different styles and can be imprecise. You are very good at\n",
              "\u001b[1;33m   \u001b[0mimpersonating them! Use the following format: CONTEXT: QUESTION: ANSWER: Let's start!                           \n"
            ],
            "text/html": [
              "<pre style=\"white-space:pre;overflow-x:auto;line-height:normal;font-family:Menlo,'DejaVu Sans Mono',consolas,'Courier New',monospace\">Here are some examples of real user questions, you will be judged by how well you match this distribution.         \n",
              "\n",
              "<span style=\"color: #808000; text-decoration-color: #808000\">───────────────────────────────────────────────────────────────────────────────────────────────────────────────────</span>\n",
              "{QUESTIONS}                                                                                                        \n",
              "\n",
              "<span style=\"color: #808000; text-decoration-color: #808000\">───────────────────────────────────────────────────────────────────────────────────────────────────────────────────</span>\n",
              "In the next step, you will read a fragment of W&amp;B documentation. This will serve as inspiration for synthetic user \n",
              "question and the source of the answer. Here is the document fragment:                                              \n",
              "\n",
              "<span style=\"color: #808000; text-decoration-color: #808000\">───────────────────────────────────────────────────────────────────────────────────────────────────────────────────</span>\n",
              "{CHUNK}                                                                                                            \n",
              "\n",
              "<span style=\"color: #808000; text-decoration-color: #808000\">───────────────────────────────────────────────────────────────────────────────────────────────────────────────────</span>\n",
              "You will now generate a user question and corresponding answer based on the above document. First, explain the user\n",
              "context and what problems they might be trying to solve. Second, generate user question. Third, provide the        \n",
              "accurate and concise answer in markdown format to the user question using the documentation. You'll be evaluated   \n",
              "on:                                                                                                                \n",
              "\n",
              "<span style=\"color: #808000; text-decoration-color: #808000; font-weight: bold\"> • </span>how realistic is that this question will come from a real user one day?                                         \n",
              "<span style=\"color: #808000; text-decoration-color: #808000; font-weight: bold\"> • </span>is this question about W&amp;B?                                                                                     \n",
              "<span style=\"color: #808000; text-decoration-color: #808000; font-weight: bold\"> • </span>can the question be answered using the W&amp;B document fragment above?                                             \n",
              "<span style=\"color: #808000; text-decoration-color: #808000; font-weight: bold\"> • </span>how accurate is the answer? Remember that users have different styles and can be imprecise. You are very good at\n",
              "<span style=\"color: #808000; text-decoration-color: #808000; font-weight: bold\">   </span>impersonating them! Use the following format: CONTEXT: QUESTION: ANSWER: Let's start!                           \n",
              "</pre>\n"
            ]
          },
          "metadata": {},
          "execution_count": 16
        }
      ],
      "source": [
        "Markdown(prompt_template)"
      ]
    },
    {
      "cell_type": "code",
      "execution_count": 28,
      "metadata": {
        "id": "NX1c30rx_NWi"
      },
      "outputs": [],
      "source": [
        "def generate_context_prompt(chunk, n_questions=3):\n",
        "    questions = '\\n'.join(random.sample(real_queries, n_questions))\n",
        "    user_prompt = prompt_template.format(QUESTIONS=questions, CHUNK=chunk)\n",
        "    return user_prompt\n",
        "\n",
        "user_prompt = generate_context_prompt(chunk)"
      ]
    },
    {
      "cell_type": "code",
      "execution_count": 29,
      "metadata": {
        "colab": {
          "base_uri": "https://localhost:8080/",
          "height": 1000
        },
        "id": "mXWXisPK_NWi",
        "outputId": "197291ae-c21a-4706-c0ec-f14c24548895"
      },
      "outputs": [
        {
          "output_type": "execute_result",
          "data": {
            "text/plain": [
              "Here are some examples of real user questions, you will be judged by how well you match this distribution.         \n",
              "\n",
              "\u001b[33m───────────────────────────────────────────────────────────────────────────────────────────────────────────────────\u001b[0m\n",
              "how can i login with a different wandb user? どんなことができますか？ what is the capital of Ireland?              \n",
              "\n",
              "\u001b[33m───────────────────────────────────────────────────────────────────────────────────────────────────────────────────\u001b[0m\n",
              "In the next step, you will read a fragment of W&B documentation. This will serve as inspiration for synthetic user \n",
              "question and the source of the answer. Here is the document fragment:                                              \n",
              "\n",
              "\u001b[33m───────────────────────────────────────────────────────────────────────────────────────────────────────────────────\u001b[0m\n",
              "b.init(tags=[\"tag1\", \"tag2\"])` .                                                                                   \n",
              "\n",
              "You can also update the tags of a run during training (e.g. if a particular metrics crosses a pre-defined          \n",
              "threshold):                                                                                                        \n",
              "\n",
              "\u001b[48;2;39;40;34m                                                                                                                   \n",
              "\u001b[0m\u001b[48;2;39;40;34m \u001b[0m\u001b[38;2;248;248;242;48;2;39;40;34mrun\u001b[0m\u001b[38;2;248;248;242;48;2;39;40;34m \u001b[0m\u001b[38;2;255;70;137;48;2;39;40;34m=\u001b[0m\u001b[38;2;248;248;242;48;2;39;40;34m \u001b[0m\u001b[38;2;248;248;242;48;2;39;40;34mwandb\u001b[0m\u001b[38;2;255;70;137;48;2;39;40;34m.\u001b[0m\u001b[38;2;248;248;242;48;2;39;40;34minit\u001b[0m\u001b[38;2;248;248;242;48;2;39;40;34m(\u001b[0m\u001b[38;2;248;248;242;48;2;39;40;34mentity\u001b[0m\u001b[38;2;255;70;137;48;2;39;40;34m=\u001b[0m\u001b[38;2;230;219;116;48;2;39;40;34m\"\u001b[0m\u001b[38;2;230;219;116;48;2;39;40;34mentity\u001b[0m\u001b[38;2;230;219;116;48;2;39;40;34m\"\u001b[0m\u001b[38;2;248;248;242;48;2;39;40;34m,\u001b[0m\u001b[38;2;248;248;242;48;2;39;40;34m \u001b[0m\u001b[38;2;248;248;242;48;2;39;40;34mproject\u001b[0m\u001b[38;2;255;70;137;48;2;39;40;34m=\u001b[0m\u001b[38;2;230;219;116;48;2;39;40;34m\"\u001b[0m\u001b[38;2;230;219;116;48;2;39;40;34mcapsules\u001b[0m\u001b[38;2;230;219;116;48;2;39;40;34m\"\u001b[0m\u001b[38;2;248;248;242;48;2;39;40;34m,\u001b[0m\u001b[38;2;248;248;242;48;2;39;40;34m \u001b[0m\u001b[38;2;248;248;242;48;2;39;40;34mtags\u001b[0m\u001b[38;2;255;70;137;48;2;39;40;34m=\u001b[0m\u001b[38;2;248;248;242;48;2;39;40;34m[\u001b[0m\u001b[38;2;230;219;116;48;2;39;40;34m\"\u001b[0m\u001b[38;2;230;219;116;48;2;39;40;34mdebug\u001b[0m\u001b[38;2;230;219;116;48;2;39;40;34m\"\u001b[0m\u001b[38;2;248;248;242;48;2;39;40;34m]\u001b[0m\u001b[38;2;248;248;242;48;2;39;40;34m)\u001b[0m\u001b[48;2;39;40;34m                                            \u001b[0m\u001b[48;2;39;40;34m \u001b[0m\n",
              "\u001b[48;2;39;40;34m \u001b[0m\u001b[48;2;39;40;34m                                                                                                                 \u001b[0m\u001b[48;2;39;40;34m \u001b[0m\n",
              "\u001b[48;2;39;40;34m \u001b[0m\u001b[38;2;255;70;137;48;2;39;40;34m.\u001b[0m\u001b[38;2;255;70;137;48;2;39;40;34m.\u001b[0m\u001b[38;2;255;70;137;48;2;39;40;34m.\u001b[0m\u001b[48;2;39;40;34m                                                                                                              \u001b[0m\u001b[48;2;39;40;34m \u001b[0m\n",
              "\u001b[48;2;39;40;34m \u001b[0m\u001b[48;2;39;40;34m                                                                                                                 \u001b[0m\u001b[48;2;39;40;34m \u001b[0m\n",
              "\u001b[48;2;39;40;34m \u001b[0m\u001b[38;2;102;217;239;48;2;39;40;34mif\u001b[0m\u001b[38;2;248;248;242;48;2;39;40;34m \u001b[0m\u001b[38;2;248;248;242;48;2;39;40;34mcurrent_loss\u001b[0m\u001b[38;2;248;248;242;48;2;39;40;34m \u001b[0m\u001b[38;2;255;70;137;48;2;39;40;34m<\u001b[0m\u001b[38;2;248;248;242;48;2;39;40;34m \u001b[0m\u001b[38;2;248;248;242;48;2;39;40;34mthreshold\u001b[0m\u001b[38;2;248;248;242;48;2;39;40;34m:\u001b[0m\u001b[48;2;39;40;34m                                                                                     \u001b[0m\u001b[48;2;39;40;34m \u001b[0m\n",
              "\u001b[48;2;39;40;34m \u001b[0m\u001b[38;2;248;248;242;48;2;39;40;34m    \u001b[0m\u001b[38;2;248;248;242;48;2;39;40;34mrun\u001b[0m\u001b[38;2;255;70;137;48;2;39;40;34m.\u001b[0m\u001b[38;2;248;248;242;48;2;39;40;34mtags\u001b[0m\u001b[38;2;248;248;242;48;2;39;40;34m \u001b[0m\u001b[38;2;255;70;137;48;2;39;40;34m=\u001b[0m\u001b[38;2;248;248;242;48;2;39;40;34m \u001b[0m\u001b[38;2;248;248;242;48;2;39;40;34mrun\u001b[0m\u001b[38;2;255;70;137;48;2;39;40;34m.\u001b[0m\u001b[38;2;248;248;242;48;2;39;40;34mtags\u001b[0m\u001b[38;2;248;248;242;48;2;39;40;34m \u001b[0m\u001b[38;2;255;70;137;48;2;39;40;34m+\u001b[0m\u001b[38;2;248;248;242;48;2;39;40;34m \u001b[0m\u001b[38;2;248;248;242;48;2;39;40;34m(\u001b[0m\u001b[38;2;230;219;116;48;2;39;40;34m\"\u001b[0m\u001b[38;2;230;219;116;48;2;39;40;34mrelease_candidate\u001b[0m\u001b[38;2;230;219;116;48;2;39;40;34m\"\u001b[0m\u001b[38;2;248;248;242;48;2;39;40;34m,\u001b[0m\u001b[38;2;248;248;242;48;2;39;40;34m)\u001b[0m\u001b[48;2;39;40;34m                                                                 \u001b[0m\u001b[48;2;39;40;34m \u001b[0m\n",
              "\u001b[48;2;39;40;34m                                                                                                                   \n",
              "\u001b[0m\n",
              "There are also several ways to add tags after runs have been logged to Weights & Biases.                           \n",
              "\n",
              "\n",
              "<Tabs defaultValue=\"publicapi\" values={[ {label: 'Using the Public API', value: 'publicapi'}, {label: 'Project     \n",
              "Page', value: 'projectpage'}, {label: 'Run Page', value: 'runpage'}, ]}>                                           \n",
              "\n",
              "After a run is created, you can update tags using \u001b]8;id=464917;../../../guides/track/public-api-guide.md\u001b\\\u001b[4;34mour public API\u001b[0m\u001b]8;;\u001b\\ like so:                                          \n",
              "\n",
              "\u001b[48;2;39;40;34m                                                                                                                   \n",
              "\u001b[0m\u001b[48;2;39;40;34m \u001b[0m\u001b[38;2;248;248;242;48;2;39;40;34mrun\u001b[0m\u001b[38;2;248;248;242;48;2;39;40;34m \u001b[0m\u001b[38;2;255;70;137;48;2;39;40;34m=\u001b[0m\u001b[38;2;248;248;242;48;2;39;40;34m \u001b[0m\u001b[38;2;248;248;242;48;2;39;40;34mwandb\u001b[0m\u001b[38;2;255;70;137;48;2;39;40;34m.\u001b[0m\u001b[38;2;248;248;242;48;2;39;40;34mApi\u001b[0m\u001b[38;2;248;248;242;48;2;39;40;34m(\u001b[0m\u001b[38;2;248;248;242;48;2;39;40;34m)\u001b[0m\u001b[38;2;255;70;137;48;2;39;40;34m.\u001b[0m\u001b[38;2;248;248;242;48;2;39;40;34mrun\u001b[0m\u001b[38;2;248;248;242;48;2;39;40;34m(\u001b[0m\u001b[38;2;230;219;116;48;2;39;40;34m\"\u001b[0m\u001b[38;2;230;219;116;48;2;39;40;34m{entity}\u001b[0m\u001b[38;2;230;219;116;48;2;39;40;34m/\u001b[0m\u001b[38;2;230;219;116;48;2;39;40;34m{project}\u001b[0m\u001b[38;2;230;219;116;48;2;39;40;34m/\u001b[0m\u001b[38;2;230;219;116;48;2;39;40;34m{\u001b[0m\u001b[38;2;230;219;116;48;2;39;40;34mrun-id}\u001b[0m\u001b[38;2;230;219;116;48;2;39;40;34m\"\u001b[0m\u001b[38;2;248;248;242;48;2;39;40;34m}\u001b[0m\u001b[38;2;248;248;242;48;2;39;40;34m)\u001b[0m\u001b[48;2;39;40;34m                                                            \u001b[0m\u001b[48;2;39;40;34m \u001b[0m\n",
              "\u001b[48;2;39;40;34m \u001b[0m\u001b[38;2;248;248;242;48;2;39;40;34mrun\u001b[0m\u001b[38;2;255;70;137;48;2;39;40;34m.\u001b[0m\u001b[38;2;248;248;242;48;2;39;40;34mtags\u001b[0m\u001b[38;2;255;70;137;48;2;39;40;34m.\u001b[0m\u001b[38;2;248;248;242;48;2;39;40;34mappend\u001b[0m\u001b[38;2;248;248;242;48;2;39;40;34m(\u001b[0m\u001b[38;2;230;219;116;48;2;39;40;34m\"\u001b[0m\u001b[38;2;230;219;116;48;2;39;40;34mtag1\u001b[0m\u001b[38;2;230;219;116;48;2;39;40;34m\"\u001b[0m\u001b[38;2;248;248;242;48;2;39;40;34m)\u001b[0m\u001b[38;2;248;248;242;48;2;39;40;34m  \u001b[0m\u001b[38;2;149;144;119;48;2;39;40;34m# you can choose tags based on run data here\u001b[0m\u001b[48;2;39;40;34m                                            \u001b[0m\u001b[48;2;39;40;34m \u001b[0m\n",
              "\u001b[48;2;39;40;34m \u001b[0m\u001b[38;2;248;248;242;48;2;39;40;34mrun\u001b[0m\u001b[38;2;255;70;137;48;2;39;40;34m.\u001b[0m\u001b[38;2;248;248;242;48;2;39;40;34mupdate\u001b[0m\u001b[38;2;248;248;242;48;2;39;40;34m(\u001b[0m\u001b[38;2;248;248;242;48;2;39;40;34m)\u001b[0m\u001b[48;2;39;40;34m                                                                                                     \u001b[0m\u001b[48;2;39;40;34m \u001b[0m\n",
              "\u001b[48;2;39;40;34m                                                                                                                   \n",
              "\u001b[0m\n",
              "You can read more about how to use the Public API in the \u001b]8;id=220914;../../../ref/README.md\u001b\\\u001b[4;34mreference documentation\u001b[0m\u001b]8;;\u001b\\ or \u001b]8;id=33868;../../../guides/track/public-api-guide.md\u001b\\\u001b[4;34mguide\u001b[0m\u001b]8;;\u001b\\.                         \n",
              "\n",
              "\n",
              "This method is best suited to tagging large numbers of runs with the same tag or tags.                             \n",
              "\n",
              "In the \u001b]8;id=39826;../pages/project-page.md#search-for-runs\u001b\\\u001b[4;34mruns sidebar\u001b[0m\u001b]8;;\u001b\\ of the \u001b]8;id=410138;../pages/project-page.md\u001b\\\u001b[4;34mProject Page\u001b[0m\u001b]8;;\u001b\\,  click the table icon in the upper-right.  This will expand the sidebar   \n",
              "into the full \u001b]8;id=236874;runs-table.md\u001b\\\u001b[4;34mruns table\u001b[0m\u001b]8;;\u001b\\.                                                                                          \n",
              "\n",
              "Hover over a run in the table to see a checkbox on the left or look in the header row for a checkbox that will     \n",
              "allow you to select all runs.                                                                                      \n",
              "\n",
              "Click the checkbox to enable bulk actions. Select the runs to which you'd like to apply your tag(s).               \n",
              "\n",
              "Click the Tag button above the rows of runs.                                                                       \n",
              "\n",
              "Type a tag you'd like to add and click \"Add\" below the text box to add a new tag.                                  \n",
              "\n",
              "\n",
              "This method is best suited to applying a tag or tags to a single run by hand.                                      \n",
              "\n",
              "In the left sidebar of the \u001b]8;id=102219;../pages/run-page.md\u001b\\\u001b[4;34mRun Page\u001b[0m\u001b]8;;\u001b\\, click the top [Overview tab](../pages/run-page.md                             \n",
              "\n",
              "\u001b[33m───────────────────────────────────────────────────────────────────────────────────────────────────────────────────\u001b[0m\n",
              "You will now generate a user question and corresponding answer based on the above document. First, explain the user\n",
              "context and what problems they might be trying to solve. Second, generate user question. Third, provide the        \n",
              "accurate and concise answer in markdown format to the user question using the documentation. You'll be evaluated   \n",
              "on:                                                                                                                \n",
              "\n",
              "\u001b[1;33m • \u001b[0mhow realistic is that this question will come from a real user one day?                                         \n",
              "\u001b[1;33m • \u001b[0mis this question about W&B?                                                                                     \n",
              "\u001b[1;33m • \u001b[0mcan the question be answered using the W&B document fragment above?                                             \n",
              "\u001b[1;33m • \u001b[0mhow accurate is the answer? Remember that users have different styles and can be imprecise. You are very good at\n",
              "\u001b[1;33m   \u001b[0mimpersonating them! Use the following format: CONTEXT: QUESTION: ANSWER: Let's start!                           \n"
            ],
            "text/html": [
              "<pre style=\"white-space:pre;overflow-x:auto;line-height:normal;font-family:Menlo,'DejaVu Sans Mono',consolas,'Courier New',monospace\">Here are some examples of real user questions, you will be judged by how well you match this distribution.         \n",
              "\n",
              "<span style=\"color: #808000; text-decoration-color: #808000\">───────────────────────────────────────────────────────────────────────────────────────────────────────────────────</span>\n",
              "how can i login with a different wandb user? どんなことができますか？ what is the capital of Ireland?              \n",
              "\n",
              "<span style=\"color: #808000; text-decoration-color: #808000\">───────────────────────────────────────────────────────────────────────────────────────────────────────────────────</span>\n",
              "In the next step, you will read a fragment of W&amp;B documentation. This will serve as inspiration for synthetic user \n",
              "question and the source of the answer. Here is the document fragment:                                              \n",
              "\n",
              "<span style=\"color: #808000; text-decoration-color: #808000\">───────────────────────────────────────────────────────────────────────────────────────────────────────────────────</span>\n",
              "b.init(tags=[\"tag1\", \"tag2\"])` .                                                                                   \n",
              "\n",
              "You can also update the tags of a run during training (e.g. if a particular metrics crosses a pre-defined          \n",
              "threshold):                                                                                                        \n",
              "\n",
              "<span style=\"background-color: #272822\">                                                                                                                   \n",
              " </span><span style=\"color: #f8f8f2; text-decoration-color: #f8f8f2; background-color: #272822\">run </span><span style=\"color: #ff4689; text-decoration-color: #ff4689; background-color: #272822\">=</span><span style=\"color: #f8f8f2; text-decoration-color: #f8f8f2; background-color: #272822\"> wandb</span><span style=\"color: #ff4689; text-decoration-color: #ff4689; background-color: #272822\">.</span><span style=\"color: #f8f8f2; text-decoration-color: #f8f8f2; background-color: #272822\">init(entity</span><span style=\"color: #ff4689; text-decoration-color: #ff4689; background-color: #272822\">=</span><span style=\"color: #e6db74; text-decoration-color: #e6db74; background-color: #272822\">\"entity\"</span><span style=\"color: #f8f8f2; text-decoration-color: #f8f8f2; background-color: #272822\">, project</span><span style=\"color: #ff4689; text-decoration-color: #ff4689; background-color: #272822\">=</span><span style=\"color: #e6db74; text-decoration-color: #e6db74; background-color: #272822\">\"capsules\"</span><span style=\"color: #f8f8f2; text-decoration-color: #f8f8f2; background-color: #272822\">, tags</span><span style=\"color: #ff4689; text-decoration-color: #ff4689; background-color: #272822\">=</span><span style=\"color: #f8f8f2; text-decoration-color: #f8f8f2; background-color: #272822\">[</span><span style=\"color: #e6db74; text-decoration-color: #e6db74; background-color: #272822\">\"debug\"</span><span style=\"color: #f8f8f2; text-decoration-color: #f8f8f2; background-color: #272822\">])</span><span style=\"background-color: #272822\">                                             </span>\n",
              "<span style=\"background-color: #272822\">                                                                                                                   </span>\n",
              "<span style=\"background-color: #272822\"> </span><span style=\"color: #ff4689; text-decoration-color: #ff4689; background-color: #272822\">...</span><span style=\"background-color: #272822\">                                                                                                               </span>\n",
              "<span style=\"background-color: #272822\">                                                                                                                   </span>\n",
              "<span style=\"background-color: #272822\"> </span><span style=\"color: #66d9ef; text-decoration-color: #66d9ef; background-color: #272822\">if</span><span style=\"color: #f8f8f2; text-decoration-color: #f8f8f2; background-color: #272822\"> current_loss </span><span style=\"color: #ff4689; text-decoration-color: #ff4689; background-color: #272822\">&lt;</span><span style=\"color: #f8f8f2; text-decoration-color: #f8f8f2; background-color: #272822\"> threshold:</span><span style=\"background-color: #272822\">                                                                                      </span>\n",
              "<span style=\"background-color: #272822\"> </span><span style=\"color: #f8f8f2; text-decoration-color: #f8f8f2; background-color: #272822\">    run</span><span style=\"color: #ff4689; text-decoration-color: #ff4689; background-color: #272822\">.</span><span style=\"color: #f8f8f2; text-decoration-color: #f8f8f2; background-color: #272822\">tags </span><span style=\"color: #ff4689; text-decoration-color: #ff4689; background-color: #272822\">=</span><span style=\"color: #f8f8f2; text-decoration-color: #f8f8f2; background-color: #272822\"> run</span><span style=\"color: #ff4689; text-decoration-color: #ff4689; background-color: #272822\">.</span><span style=\"color: #f8f8f2; text-decoration-color: #f8f8f2; background-color: #272822\">tags </span><span style=\"color: #ff4689; text-decoration-color: #ff4689; background-color: #272822\">+</span><span style=\"color: #f8f8f2; text-decoration-color: #f8f8f2; background-color: #272822\"> (</span><span style=\"color: #e6db74; text-decoration-color: #e6db74; background-color: #272822\">\"release_candidate\"</span><span style=\"color: #f8f8f2; text-decoration-color: #f8f8f2; background-color: #272822\">,)</span><span style=\"background-color: #272822\">                                                                  </span>\n",
              "<span style=\"background-color: #272822\">                                                                                                                   \n",
              "</span>\n",
              "There are also several ways to add tags after runs have been logged to Weights &amp; Biases.                           \n",
              "\n",
              "\n",
              "&lt;Tabs defaultValue=\"publicapi\" values={[ {label: 'Using the Public API', value: 'publicapi'}, {label: 'Project     \n",
              "Page', value: 'projectpage'}, {label: 'Run Page', value: 'runpage'}, ]}&gt;                                           \n",
              "\n",
              "After a run is created, you can update tags using <a href=\"../../../guides/track/public-api-guide.md\" target=\"_blank\"><span style=\"color: #000080; text-decoration-color: #000080; text-decoration: underline\">our public API</span></a> like so:                                          \n",
              "\n",
              "<span style=\"background-color: #272822\">                                                                                                                   \n",
              " </span><span style=\"color: #f8f8f2; text-decoration-color: #f8f8f2; background-color: #272822\">run </span><span style=\"color: #ff4689; text-decoration-color: #ff4689; background-color: #272822\">=</span><span style=\"color: #f8f8f2; text-decoration-color: #f8f8f2; background-color: #272822\"> wandb</span><span style=\"color: #ff4689; text-decoration-color: #ff4689; background-color: #272822\">.</span><span style=\"color: #f8f8f2; text-decoration-color: #f8f8f2; background-color: #272822\">Api()</span><span style=\"color: #ff4689; text-decoration-color: #ff4689; background-color: #272822\">.</span><span style=\"color: #f8f8f2; text-decoration-color: #f8f8f2; background-color: #272822\">run(</span><span style=\"color: #e6db74; text-decoration-color: #e6db74; background-color: #272822\">\"{entity}/{project}/{run-id}\"</span><span style=\"color: #f8f8f2; text-decoration-color: #f8f8f2; background-color: #272822\">})</span><span style=\"background-color: #272822\">                                                             </span>\n",
              "<span style=\"background-color: #272822\"> </span><span style=\"color: #f8f8f2; text-decoration-color: #f8f8f2; background-color: #272822\">run</span><span style=\"color: #ff4689; text-decoration-color: #ff4689; background-color: #272822\">.</span><span style=\"color: #f8f8f2; text-decoration-color: #f8f8f2; background-color: #272822\">tags</span><span style=\"color: #ff4689; text-decoration-color: #ff4689; background-color: #272822\">.</span><span style=\"color: #f8f8f2; text-decoration-color: #f8f8f2; background-color: #272822\">append(</span><span style=\"color: #e6db74; text-decoration-color: #e6db74; background-color: #272822\">\"tag1\"</span><span style=\"color: #f8f8f2; text-decoration-color: #f8f8f2; background-color: #272822\">)  </span><span style=\"color: #959077; text-decoration-color: #959077; background-color: #272822\"># you can choose tags based on run data here</span><span style=\"background-color: #272822\">                                             </span>\n",
              "<span style=\"background-color: #272822\"> </span><span style=\"color: #f8f8f2; text-decoration-color: #f8f8f2; background-color: #272822\">run</span><span style=\"color: #ff4689; text-decoration-color: #ff4689; background-color: #272822\">.</span><span style=\"color: #f8f8f2; text-decoration-color: #f8f8f2; background-color: #272822\">update()</span><span style=\"background-color: #272822\">                                                                                                      </span>\n",
              "<span style=\"background-color: #272822\">                                                                                                                   \n",
              "</span>\n",
              "You can read more about how to use the Public API in the <a href=\"../../../ref/README.md\" target=\"_blank\"><span style=\"color: #000080; text-decoration-color: #000080; text-decoration: underline\">reference documentation</span></a> or <a href=\"../../../guides/track/public-api-guide.md\" target=\"_blank\"><span style=\"color: #000080; text-decoration-color: #000080; text-decoration: underline\">guide</span></a>.                         \n",
              "\n",
              "\n",
              "This method is best suited to tagging large numbers of runs with the same tag or tags.                             \n",
              "\n",
              "In the <a href=\"../pages/project-page.md#search-for-runs\" target=\"_blank\"><span style=\"color: #000080; text-decoration-color: #000080; text-decoration: underline\">runs sidebar</span></a> of the <a href=\"../pages/project-page.md\" target=\"_blank\"><span style=\"color: #000080; text-decoration-color: #000080; text-decoration: underline\">Project Page</span></a>,  click the table icon in the upper-right.  This will expand the sidebar   \n",
              "into the full <a href=\"runs-table.md\" target=\"_blank\"><span style=\"color: #000080; text-decoration-color: #000080; text-decoration: underline\">runs table</span></a>.                                                                                          \n",
              "\n",
              "Hover over a run in the table to see a checkbox on the left or look in the header row for a checkbox that will     \n",
              "allow you to select all runs.                                                                                      \n",
              "\n",
              "Click the checkbox to enable bulk actions. Select the runs to which you'd like to apply your tag(s).               \n",
              "\n",
              "Click the Tag button above the rows of runs.                                                                       \n",
              "\n",
              "Type a tag you'd like to add and click \"Add\" below the text box to add a new tag.                                  \n",
              "\n",
              "\n",
              "This method is best suited to applying a tag or tags to a single run by hand.                                      \n",
              "\n",
              "In the left sidebar of the <a href=\"../pages/run-page.md\" target=\"_blank\"><span style=\"color: #000080; text-decoration-color: #000080; text-decoration: underline\">Run Page</span></a>, click the top [Overview tab](../pages/run-page.md                             \n",
              "\n",
              "<span style=\"color: #808000; text-decoration-color: #808000\">───────────────────────────────────────────────────────────────────────────────────────────────────────────────────</span>\n",
              "You will now generate a user question and corresponding answer based on the above document. First, explain the user\n",
              "context and what problems they might be trying to solve. Second, generate user question. Third, provide the        \n",
              "accurate and concise answer in markdown format to the user question using the documentation. You'll be evaluated   \n",
              "on:                                                                                                                \n",
              "\n",
              "<span style=\"color: #808000; text-decoration-color: #808000; font-weight: bold\"> • </span>how realistic is that this question will come from a real user one day?                                         \n",
              "<span style=\"color: #808000; text-decoration-color: #808000; font-weight: bold\"> • </span>is this question about W&amp;B?                                                                                     \n",
              "<span style=\"color: #808000; text-decoration-color: #808000; font-weight: bold\"> • </span>can the question be answered using the W&amp;B document fragment above?                                             \n",
              "<span style=\"color: #808000; text-decoration-color: #808000; font-weight: bold\"> • </span>how accurate is the answer? Remember that users have different styles and can be imprecise. You are very good at\n",
              "<span style=\"color: #808000; text-decoration-color: #808000; font-weight: bold\">   </span>impersonating them! Use the following format: CONTEXT: QUESTION: ANSWER: Let's start!                           \n",
              "</pre>\n"
            ]
          },
          "metadata": {},
          "execution_count": 29
        }
      ],
      "source": [
        "Markdown(user_prompt)"
      ]
    },
    {
      "cell_type": "code",
      "execution_count": 30,
      "metadata": {
        "id": "7UhFyDJi_NWi"
      },
      "outputs": [],
      "source": [
        "def generate_questions(documents, n_questions=3, n_generations=5):\n",
        "    questions = []\n",
        "    for _, document in documents:\n",
        "        chunk = extract_random_chunk(document)\n",
        "        user_prompt = generate_context_prompt(chunk, n_questions)\n",
        "        messages=[\n",
        "            {\"role\": \"system\", \"content\": system_prompt},\n",
        "            {\"role\": \"user\", \"content\": user_prompt},\n",
        "        ]\n",
        "        response = completion_with_backoff(\n",
        "            model=MODEL_NAME,\n",
        "            messages=messages,\n",
        "            n = n_generations,\n",
        "            )\n",
        "        questions.extend([response.choices[i].message.content for i in range(n_generations)])\n",
        "    return questions"
      ]
    },
    {
      "cell_type": "markdown",
      "metadata": {
        "id": "1Uuy7gWt_NWi"
      },
      "source": [
        "> A Note about the `system` role: For GPT4 based pipelines you probably want to move some part of the context prompt to the `system` context. As we are using `gpt3.5-turbo` here, you can put the instruction on the user prompt, you can read more about this on [OpenAI docs here](https://platform.openai.com/docs/guides/chat/instructing-chat-models)"
      ]
    },
    {
      "cell_type": "code",
      "execution_count": 31,
      "metadata": {
        "id": "2bEz4p0h_NWi"
      },
      "outputs": [],
      "source": [
        "# function to parse model generation and extract CONTEXT, QUESTION and ANSWER\n",
        "def parse_generation(generation):\n",
        "    lines = generation.split(\"\\n\")\n",
        "    context = []\n",
        "    question = []\n",
        "    answer = []\n",
        "    flag = None\n",
        "\n",
        "    for line in lines:\n",
        "        if \"CONTEXT:\" in line:\n",
        "            flag = \"context\"\n",
        "            line = line.replace(\"CONTEXT:\", \"\").strip()\n",
        "        elif \"QUESTION:\" in line:\n",
        "            flag = \"question\"\n",
        "            line = line.replace(\"QUESTION:\", \"\").strip()\n",
        "        elif \"ANSWER:\" in line:\n",
        "            flag = \"answer\"\n",
        "            line = line.replace(\"ANSWER:\", \"\").strip()\n",
        "\n",
        "        if flag == \"context\":\n",
        "            context.append(line)\n",
        "        elif flag == \"question\":\n",
        "            question.append(line)\n",
        "        elif flag == \"answer\":\n",
        "            answer.append(line)\n",
        "\n",
        "    context = \"\\n\".join(context)\n",
        "    question = \"\\n\".join(question)\n",
        "    answer = \"\\n\".join(answer)\n",
        "    return context, question, answer"
      ]
    },
    {
      "cell_type": "code",
      "execution_count": 32,
      "metadata": {
        "colab": {
          "base_uri": "https://localhost:8080/"
        },
        "id": "tTbkOKVv_NWi",
        "outputId": "1f77c930-f0e6-4394-dfd0-3c32af7b055b"
      },
      "outputs": [
        {
          "output_type": "execute_result",
          "data": {
            "text/plain": [
              "(\"\\nThe user is trying to manage tags associated with their runs in W&B. They've created a number of runs as part of an experiment and have tagged each run with relevant information. However, they've decided to do some organization and cleanup of these tags and are not sure how to proceed.\\n\",\n",
              " '\\nHow can I bulk remove tags from numerous runs all at once on the Project Page?\\n',\n",
              " '\\nYou can easily remove tags from multiple runs on the Project Page. Here\\'s how to do it:\\n\\n1. Navigate to the [runs sidebar](../pages/project-page.md#search-for-runs) on the Project Page and  click the table icon in the upper-right. This expands the sidebar into the full [runs table](runs-table.md).\\n2. Then, hover over a run in the table to see a checkbox on the left, or look in the header row for a checkbox that will allow you to select all runs.\\n3. Click the checkbox to enable bulk actions and select the runs from which you want to remove your tag(s).\\n4. Unfortunately, the document is cut off at this point, but it\\'s likely that after selecting your runs, there will be an option similar to the \"Tag\" button for adding tags where you can choose to remove tags.\\n\\nTo make sure, refer to W&B documentation for complete steps in case there are further steps to perform.')"
            ]
          },
          "metadata": {},
          "execution_count": 32
        }
      ],
      "source": [
        "generations = generate_questions([documents[0]], n_questions=3, n_generations=5)\n",
        "parse_generation(generations[0])"
      ]
    },
    {
      "cell_type": "code",
      "execution_count": 33,
      "metadata": {
        "colab": {
          "base_uri": "https://localhost:8080/"
        },
        "id": "uYRMiffP_NWi",
        "outputId": "d0904c18-465b-4f70-cdf5-7008efdb2506"
      },
      "outputs": [
        {
          "output_type": "execute_result",
          "data": {
            "text/plain": [
              "<Artifact generated_examples>"
            ]
          },
          "metadata": {},
          "execution_count": 33
        }
      ],
      "source": [
        "parsed_generations = []\n",
        "generations = generate_questions(documents, n_questions=3, n_generations=5)\n",
        "for generation in generations:\n",
        "    context, question, answer = parse_generation(generation)\n",
        "    parsed_generations.append({\"context\": context, \"question\": question, \"answer\": answer})\n",
        "\n",
        "# let's convert parsed_generations to a pandas dataframe and save it locally\n",
        "df = pd.DataFrame(parsed_generations)\n",
        "df.to_csv('generated_examples.csv', index=False)\n",
        "\n",
        "# log df as a table to W&B for interactive exploration\n",
        "wandb.log({\"generated_examples\": wandb.Table(dataframe=df)})\n",
        "\n",
        "# log csv file as an artifact to W&B for later use\n",
        "artifact = wandb.Artifact(\"generated_examples\", type=\"dataset\")\n",
        "artifact.add_file(\"generated_examples.csv\")\n",
        "wandb.log_artifact(artifact)"
      ]
    },
    {
      "cell_type": "code",
      "execution_count": 34,
      "metadata": {
        "colab": {
          "base_uri": "https://localhost:8080/",
          "height": 270
        },
        "id": "QC-h1REy_NWi",
        "outputId": "c9c1dd43-89b3-405e-81c1-8b72c4de07be"
      },
      "outputs": [
        {
          "output_type": "display_data",
          "data": {
            "text/plain": [
              "<IPython.core.display.HTML object>"
            ],
            "text/html": [
              "Waiting for W&B process to finish... <strong style=\"color:green\">(success).</strong>"
            ]
          },
          "metadata": {}
        },
        {
          "output_type": "display_data",
          "data": {
            "text/plain": [
              "<IPython.core.display.HTML object>"
            ],
            "text/html": [
              "<style>\n",
              "    table.wandb td:nth-child(1) { padding: 0 10px; text-align: left ; width: auto;} td:nth-child(2) {text-align: left ; width: 100%}\n",
              "    .wandb-row { display: flex; flex-direction: row; flex-wrap: wrap; justify-content: flex-start; width: 100% }\n",
              "    .wandb-col { display: flex; flex-direction: column; flex-basis: 100%; flex: 1; padding: 10px; }\n",
              "    </style>\n",
              "<div class=\"wandb-row\"><div class=\"wandb-col\"><h3>Run history:</h3><br/><table class=\"wandb\"><tr><td>usage/completion_tokens</td><td>▁▇▆▇▄▇▇▅█▆██▅▆</td></tr><tr><td>usage/elapsed_time</td><td>▁▇▄▇▄▇▆▆▆▇█▇▅▇</td></tr><tr><td>usage/prompt_tokens</td><td>▁▂▅▆▅▆▆▆▆▅█▅▅▆</td></tr><tr><td>usage/total_tokens</td><td>▁▅▆▆▄▇▆▅▇▆█▇▅▆</td></tr></table><br/></div><div class=\"wandb-col\"><h3>Run summary:</h3><br/><table class=\"wandb\"><tr><td>usage/completion_tokens</td><td>1580</td></tr><tr><td>usage/elapsed_time</td><td>55.76169</td></tr><tr><td>usage/prompt_tokens</td><td>941</td></tr><tr><td>usage/total_tokens</td><td>2521</td></tr></table><br/></div></div>"
            ]
          },
          "metadata": {}
        },
        {
          "output_type": "display_data",
          "data": {
            "text/plain": [
              "<IPython.core.display.HTML object>"
            ],
            "text/html": [
              " View run <strong style=\"color:#cdcd00\">polished-vortex-4</strong> at: <a href='https://wandb.ai/aaalex-lit/llmapps/runs/x4a4r1lk' target=\"_blank\">https://wandb.ai/aaalex-lit/llmapps/runs/x4a4r1lk</a><br/>Synced 5 W&B file(s), 15 media file(s), 16 artifact file(s) and 0 other file(s)"
            ]
          },
          "metadata": {}
        },
        {
          "output_type": "display_data",
          "data": {
            "text/plain": [
              "<IPython.core.display.HTML object>"
            ],
            "text/html": [
              "Find logs at: <code>./wandb/run-20230831_152022-x4a4r1lk/logs</code>"
            ]
          },
          "metadata": {}
        }
      ],
      "source": [
        "wandb.finish()"
      ]
    },
    {
      "cell_type": "code",
      "execution_count": null,
      "metadata": {
        "id": "gF2uoYO__NWi"
      },
      "outputs": [],
      "source": []
    }
  ],
  "metadata": {
    "colab": {
      "provenance": [],
      "include_colab_link": true
    },
    "kernelspec": {
      "display_name": "Python 3",
      "name": "python3"
    },
    "language_info": {
      "codemirror_mode": {
        "name": "ipython",
        "version": 3
      },
      "file_extension": ".py",
      "mimetype": "text/x-python",
      "name": "python",
      "nbconvert_exporter": "python",
      "pygments_lexer": "ipython3",
      "version": "3.11.2"
    },
    "widgets": {
      "application/vnd.jupyter.widget-state+json": {
        "b7f760b582b94a258ff7f124f8454e7d": {
          "model_module": "@jupyter-widgets/controls",
          "model_name": "VBoxModel",
          "model_module_version": "1.5.0",
          "state": {
            "_dom_classes": [],
            "_model_module": "@jupyter-widgets/controls",
            "_model_module_version": "1.5.0",
            "_model_name": "VBoxModel",
            "_view_count": null,
            "_view_module": "@jupyter-widgets/controls",
            "_view_module_version": "1.5.0",
            "_view_name": "VBoxView",
            "box_style": "",
            "children": [
              "IPY_MODEL_072ab45f89fb464c9c88e97f68fff5b1",
              "IPY_MODEL_5c4eaf88b4e8480e8f290fc3ba2f6188"
            ],
            "layout": "IPY_MODEL_35359c11c1804f0d99c723e59048a9ba"
          }
        },
        "072ab45f89fb464c9c88e97f68fff5b1": {
          "model_module": "@jupyter-widgets/controls",
          "model_name": "LabelModel",
          "model_module_version": "1.5.0",
          "state": {
            "_dom_classes": [],
            "_model_module": "@jupyter-widgets/controls",
            "_model_module_version": "1.5.0",
            "_model_name": "LabelModel",
            "_view_count": null,
            "_view_module": "@jupyter-widgets/controls",
            "_view_module_version": "1.5.0",
            "_view_name": "LabelView",
            "description": "",
            "description_tooltip": null,
            "layout": "IPY_MODEL_96c996a4b3214fd49e14cecee1f27702",
            "placeholder": "​",
            "style": "IPY_MODEL_96bad21a675549c5b5fd25099a63d614",
            "value": "Waiting for wandb.init()...\r"
          }
        },
        "5c4eaf88b4e8480e8f290fc3ba2f6188": {
          "model_module": "@jupyter-widgets/controls",
          "model_name": "FloatProgressModel",
          "model_module_version": "1.5.0",
          "state": {
            "_dom_classes": [],
            "_model_module": "@jupyter-widgets/controls",
            "_model_module_version": "1.5.0",
            "_model_name": "FloatProgressModel",
            "_view_count": null,
            "_view_module": "@jupyter-widgets/controls",
            "_view_module_version": "1.5.0",
            "_view_name": "ProgressView",
            "bar_style": "",
            "description": "",
            "description_tooltip": null,
            "layout": "IPY_MODEL_b701bd95559e4338aac9578922db8bd4",
            "max": 1,
            "min": 0,
            "orientation": "horizontal",
            "style": "IPY_MODEL_dfc0cac49df249bd885f21da70932043",
            "value": 1
          }
        },
        "35359c11c1804f0d99c723e59048a9ba": {
          "model_module": "@jupyter-widgets/base",
          "model_name": "LayoutModel",
          "model_module_version": "1.2.0",
          "state": {
            "_model_module": "@jupyter-widgets/base",
            "_model_module_version": "1.2.0",
            "_model_name": "LayoutModel",
            "_view_count": null,
            "_view_module": "@jupyter-widgets/base",
            "_view_module_version": "1.2.0",
            "_view_name": "LayoutView",
            "align_content": null,
            "align_items": null,
            "align_self": null,
            "border": null,
            "bottom": null,
            "display": null,
            "flex": null,
            "flex_flow": null,
            "grid_area": null,
            "grid_auto_columns": null,
            "grid_auto_flow": null,
            "grid_auto_rows": null,
            "grid_column": null,
            "grid_gap": null,
            "grid_row": null,
            "grid_template_areas": null,
            "grid_template_columns": null,
            "grid_template_rows": null,
            "height": null,
            "justify_content": null,
            "justify_items": null,
            "left": null,
            "margin": null,
            "max_height": null,
            "max_width": null,
            "min_height": null,
            "min_width": null,
            "object_fit": null,
            "object_position": null,
            "order": null,
            "overflow": null,
            "overflow_x": null,
            "overflow_y": null,
            "padding": null,
            "right": null,
            "top": null,
            "visibility": null,
            "width": null
          }
        },
        "96c996a4b3214fd49e14cecee1f27702": {
          "model_module": "@jupyter-widgets/base",
          "model_name": "LayoutModel",
          "model_module_version": "1.2.0",
          "state": {
            "_model_module": "@jupyter-widgets/base",
            "_model_module_version": "1.2.0",
            "_model_name": "LayoutModel",
            "_view_count": null,
            "_view_module": "@jupyter-widgets/base",
            "_view_module_version": "1.2.0",
            "_view_name": "LayoutView",
            "align_content": null,
            "align_items": null,
            "align_self": null,
            "border": null,
            "bottom": null,
            "display": null,
            "flex": null,
            "flex_flow": null,
            "grid_area": null,
            "grid_auto_columns": null,
            "grid_auto_flow": null,
            "grid_auto_rows": null,
            "grid_column": null,
            "grid_gap": null,
            "grid_row": null,
            "grid_template_areas": null,
            "grid_template_columns": null,
            "grid_template_rows": null,
            "height": null,
            "justify_content": null,
            "justify_items": null,
            "left": null,
            "margin": null,
            "max_height": null,
            "max_width": null,
            "min_height": null,
            "min_width": null,
            "object_fit": null,
            "object_position": null,
            "order": null,
            "overflow": null,
            "overflow_x": null,
            "overflow_y": null,
            "padding": null,
            "right": null,
            "top": null,
            "visibility": null,
            "width": null
          }
        },
        "96bad21a675549c5b5fd25099a63d614": {
          "model_module": "@jupyter-widgets/controls",
          "model_name": "DescriptionStyleModel",
          "model_module_version": "1.5.0",
          "state": {
            "_model_module": "@jupyter-widgets/controls",
            "_model_module_version": "1.5.0",
            "_model_name": "DescriptionStyleModel",
            "_view_count": null,
            "_view_module": "@jupyter-widgets/base",
            "_view_module_version": "1.2.0",
            "_view_name": "StyleView",
            "description_width": ""
          }
        },
        "b701bd95559e4338aac9578922db8bd4": {
          "model_module": "@jupyter-widgets/base",
          "model_name": "LayoutModel",
          "model_module_version": "1.2.0",
          "state": {
            "_model_module": "@jupyter-widgets/base",
            "_model_module_version": "1.2.0",
            "_model_name": "LayoutModel",
            "_view_count": null,
            "_view_module": "@jupyter-widgets/base",
            "_view_module_version": "1.2.0",
            "_view_name": "LayoutView",
            "align_content": null,
            "align_items": null,
            "align_self": null,
            "border": null,
            "bottom": null,
            "display": null,
            "flex": null,
            "flex_flow": null,
            "grid_area": null,
            "grid_auto_columns": null,
            "grid_auto_flow": null,
            "grid_auto_rows": null,
            "grid_column": null,
            "grid_gap": null,
            "grid_row": null,
            "grid_template_areas": null,
            "grid_template_columns": null,
            "grid_template_rows": null,
            "height": null,
            "justify_content": null,
            "justify_items": null,
            "left": null,
            "margin": null,
            "max_height": null,
            "max_width": null,
            "min_height": null,
            "min_width": null,
            "object_fit": null,
            "object_position": null,
            "order": null,
            "overflow": null,
            "overflow_x": null,
            "overflow_y": null,
            "padding": null,
            "right": null,
            "top": null,
            "visibility": null,
            "width": null
          }
        },
        "dfc0cac49df249bd885f21da70932043": {
          "model_module": "@jupyter-widgets/controls",
          "model_name": "ProgressStyleModel",
          "model_module_version": "1.5.0",
          "state": {
            "_model_module": "@jupyter-widgets/controls",
            "_model_module_version": "1.5.0",
            "_model_name": "ProgressStyleModel",
            "_view_count": null,
            "_view_module": "@jupyter-widgets/base",
            "_view_module_version": "1.2.0",
            "_view_name": "StyleView",
            "bar_color": null,
            "description_width": ""
          }
        }
      }
    }
  },
  "nbformat": 4,
  "nbformat_minor": 0
}